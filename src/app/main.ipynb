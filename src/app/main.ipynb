{
  "cells": [
    {
      "cell_type": "markdown",
      "metadata": {
        "id": "S_7K0QrybjiZ"
      },
      "source": [
        "Importación de las bibliotecas"
      ]
    },
    {
      "cell_type": "code",
      "execution_count": null,
      "metadata": {},
      "outputs": [],
      "source": [
        "from IPython.core.interactiveshell import InteractiveShell\n",
        "InteractiveShell.ast_node_interactivity = \"all\"\n",
        "import warnings; warnings.simplefilter('ignore')\n",
        "%matplotlib inline"
      ]
    },
    {
      "cell_type": "markdown",
      "metadata": {},
      "source": [
        "# Sistema de recomendación usando una proyección de red bipartita\n",
        "\n",
        "**Integrantes:** Isaac Cerda, David Guamán, Christian Jácome, Mateo Jaramillo, David Navarrete"
      ]
    },
    {
      "cell_type": "markdown",
      "metadata": {},
      "source": [
        "## Preparación de Datos"
      ]
    },
    {
      "cell_type": "markdown",
      "metadata": {},
      "source": [
        "### **Paso 1:** Descargar el Dataset\n",
        "Ejecutar **SOLO** si **NO** se tiene la carpeta `data` en el directorio `src/app` con el archivo `ratings_electronics.csv`"
      ]
    },
    {
      "cell_type": "code",
      "execution_count": 1,
      "metadata": {},
      "outputs": [
        {
          "name": "stdout",
          "output_type": "stream",
          "text": [
            "El archivo ya está disponible en: data\\amazon-products-reviews\\ratings_electronics.csv\n"
          ]
        }
      ],
      "source": [
        "from utils.download_dataset import download_ratings_electronics\n",
        "\n",
        "dataset_path = download_ratings_electronics()"
      ]
    },
    {
      "cell_type": "markdown",
      "metadata": {
        "id": "fTIsY-bibm7r"
      },
      "source": [
        "### **Paso 2:** Cargar el Dataset"
      ]
    },
    {
      "cell_type": "code",
      "execution_count": 2,
      "metadata": {
        "colab": {
          "base_uri": "https://localhost:8080/",
          "height": 224
        },
        "id": "O9Rj8f42bi-1",
        "outputId": "f71c5cce-b018-4ba7-a0ab-f524f0960b9d"
      },
      "outputs": [
        {
          "data": {
            "text/html": [
              "<div>\n",
              "<style scoped>\n",
              "    .dataframe tbody tr th:only-of-type {\n",
              "        vertical-align: middle;\n",
              "    }\n",
              "\n",
              "    .dataframe tbody tr th {\n",
              "        vertical-align: top;\n",
              "    }\n",
              "\n",
              "    .dataframe thead th {\n",
              "        text-align: right;\n",
              "    }\n",
              "</style>\n",
              "<table border=\"1\" class=\"dataframe\">\n",
              "  <thead>\n",
              "    <tr style=\"text-align: right;\">\n",
              "      <th></th>\n",
              "      <th>userId</th>\n",
              "      <th>productId</th>\n",
              "      <th>Rating</th>\n",
              "      <th>timestamp</th>\n",
              "    </tr>\n",
              "  </thead>\n",
              "  <tbody>\n",
              "    <tr>\n",
              "      <th>0</th>\n",
              "      <td>AKM1MP6P0OYPR</td>\n",
              "      <td>0132793040</td>\n",
              "      <td>5.0</td>\n",
              "      <td>1365811200</td>\n",
              "    </tr>\n",
              "    <tr>\n",
              "      <th>1</th>\n",
              "      <td>A2CX7LUOHB2NDG</td>\n",
              "      <td>0321732944</td>\n",
              "      <td>5.0</td>\n",
              "      <td>1341100800</td>\n",
              "    </tr>\n",
              "    <tr>\n",
              "      <th>2</th>\n",
              "      <td>A2NWSAGRHCP8N5</td>\n",
              "      <td>0439886341</td>\n",
              "      <td>1.0</td>\n",
              "      <td>1367193600</td>\n",
              "    </tr>\n",
              "    <tr>\n",
              "      <th>3</th>\n",
              "      <td>A2WNBOD3WNDNKT</td>\n",
              "      <td>0439886341</td>\n",
              "      <td>3.0</td>\n",
              "      <td>1374451200</td>\n",
              "    </tr>\n",
              "    <tr>\n",
              "      <th>4</th>\n",
              "      <td>A1GI0U4ZRJA8WN</td>\n",
              "      <td>0439886341</td>\n",
              "      <td>1.0</td>\n",
              "      <td>1334707200</td>\n",
              "    </tr>\n",
              "  </tbody>\n",
              "</table>\n",
              "</div>"
            ],
            "text/plain": [
              "           userId   productId  Rating   timestamp\n",
              "0   AKM1MP6P0OYPR  0132793040     5.0  1365811200\n",
              "1  A2CX7LUOHB2NDG  0321732944     5.0  1341100800\n",
              "2  A2NWSAGRHCP8N5  0439886341     1.0  1367193600\n",
              "3  A2WNBOD3WNDNKT  0439886341     3.0  1374451200\n",
              "4  A1GI0U4ZRJA8WN  0439886341     1.0  1334707200"
            ]
          },
          "execution_count": 2,
          "metadata": {},
          "output_type": "execute_result"
        }
      ],
      "source": [
        "import pandas as pd\n",
        "\n",
        "## Carga del dataset generado en la ruta del api\n",
        "electronics_data = pd.read_csv(\n",
        "    dataset_path, names=['userId', 'productId', 'Rating', 'timestamp']\n",
        ")\n",
        "\n",
        "## Impresión de las primeras 5 filas para validar la carga correcta del dataset\n",
        "electronics_data.head()"
      ]
    },
    {
      "cell_type": "markdown",
      "metadata": {
        "id": "ETDbEux5hqHw"
      },
      "source": [
        "#### **Paso 2.1:** Revisar cantidad de datos del Dataset"
      ]
    },
    {
      "cell_type": "code",
      "execution_count": 3,
      "metadata": {
        "colab": {
          "base_uri": "https://localhost:8080/",
          "height": 509
        },
        "id": "2t4Gzj3fhpG2",
        "outputId": "9524a2d2-0629-49ce-dcfc-900636a87aa3"
      },
      "outputs": [
        {
          "name": "stdout",
          "output_type": "stream",
          "text": [
            "<class 'pandas.core.frame.DataFrame'>\n",
            "RangeIndex: 7824482 entries, 0 to 7824481\n",
            "Data columns (total 4 columns):\n",
            " #   Column     Dtype  \n",
            "---  ------     -----  \n",
            " 0   userId     object \n",
            " 1   productId  object \n",
            " 2   Rating     float64\n",
            " 3   timestamp  int64  \n",
            "dtypes: float64(1), int64(1), object(2)\n",
            "memory usage: 238.8+ MB\n",
            "Total registros: 7,824,482\n"
          ]
        }
      ],
      "source": [
        "electronics_data.info()\n",
        "electronics_data.describe()\n",
        "print(f\"Total registros: {len(electronics_data):,}\")"
      ]
    },
    {
      "cell_type": "markdown",
      "metadata": {
        "id": "p3ZVNz3vhuJc"
      },
      "source": [
        "### **Paso 3:** Filtrar reseñas de 5 estrellas"
      ]
    },
    {
      "cell_type": "code",
      "execution_count": 4,
      "metadata": {
        "colab": {
          "base_uri": "https://localhost:8080/"
        },
        "id": "7anER47ehtgK",
        "outputId": "770e65a9-7393-492e-f097-93dc2bba2e6f"
      },
      "outputs": [
        {
          "name": "stdout",
          "output_type": "stream",
          "text": [
            "Registros luego de filtrar 5 estrellas: 4,347,541\n"
          ]
        }
      ],
      "source": [
        "electronics_data = electronics_data[electronics_data['Rating'] == 5]\n",
        "print(f\"Registros luego de filtrar 5 estrellas: {len(electronics_data):,}\")"
      ]
    },
    {
      "cell_type": "markdown",
      "metadata": {
        "id": "Dtaj4hzQhzzr"
      },
      "source": [
        "### **Paso 4:** Eliminar usuarios y productos con pocas conexiones"
      ]
    },
    {
      "cell_type": "code",
      "execution_count": 5,
      "metadata": {
        "colab": {
          "base_uri": "https://localhost:8080/"
        },
        "id": "-_C-wCBFh31Y",
        "outputId": "ad715358-16fe-4171-f6b9-34a64db639db"
      },
      "outputs": [
        {
          "name": "stdout",
          "output_type": "stream",
          "text": [
            "Registros tras filtrado de conexiones mínimas: 1,147,489\n"
          ]
        }
      ],
      "source": [
        "# Contar cuántos ratings tiene cada usuario y producto\n",
        "user_counts = electronics_data['userId'].value_counts()\n",
        "product_counts = electronics_data['productId'].value_counts()\n",
        "\n",
        "# Mantener usuarios y productos con al menos 4 interacciones\n",
        "min_user_reviews = 4\n",
        "min_product_reviews = 4\n",
        "\n",
        "filtered_users = user_counts[user_counts >= min_user_reviews].index\n",
        "filtered_products = product_counts[product_counts >= min_product_reviews].index\n",
        "\n",
        "electronics_data = electronics_data[\n",
        "    electronics_data['userId'].isin(filtered_users) &\n",
        "    electronics_data['productId'].isin(filtered_products)\n",
        "]\n",
        "\n",
        "print(f\"Registros tras filtrado de conexiones mínimas: {len(electronics_data):,}\")\n"
      ]
    },
    {
      "cell_type": "markdown",
      "metadata": {
        "id": "F3XuuMohikJw"
      },
      "source": [
        "#### **Paso 4.1:** Validar campos nulos tras el filtrado"
      ]
    },
    {
      "cell_type": "code",
      "execution_count": 6,
      "metadata": {
        "colab": {
          "base_uri": "https://localhost:8080/",
          "height": 210
        },
        "id": "MGAVlfO-imxB",
        "outputId": "142dc6f4-c712-4e80-e19b-16edfec8fa25"
      },
      "outputs": [
        {
          "data": {
            "text/plain": [
              "userId       0\n",
              "productId    0\n",
              "Rating       0\n",
              "timestamp    0\n",
              "dtype: int64"
            ]
          },
          "execution_count": 6,
          "metadata": {},
          "output_type": "execute_result"
        }
      ],
      "source": [
        "electronics_data.isnull().sum()"
      ]
    },
    {
      "cell_type": "markdown",
      "metadata": {},
      "source": [
        "## Construcción de la Red Bipartita"
      ]
    },
    {
      "cell_type": "markdown",
      "metadata": {},
      "source": [
        "Una red bipartita es una forma de organizar relaciones entre dos grupos distintos. En este caso se tiene dos filas: una con usuarios y otra con productos. Las conexiones, también llamadas aristas, solo pueden ir de un grupo al otro, nunca dentro del mismo grupo. Por ejemplo, un usuario puede dar 5 estrellas a un producto, pero un usuario no se conecta con otro usuario, ni un producto con otro producto.\n",
        "\n",
        "### Artefactos:\n",
        "\n",
        "- **Matriz de biadyacencia**: Una tabla que muestra las conexiones. Las filas son usuarios, las columnas son productos, un \"1\" indica que el usuario dio 5 estrellas al producto y un \"0\" si no.\n",
        "\n",
        "- **Grado de un nodo:** Cuántas conexiones tiene un nodo (por ejemplo, cuántos productos calificó un usuario, o cuántas reseñas de 5 estrellas recibió un producto)."
      ]
    },
    {
      "cell_type": "markdown",
      "metadata": {},
      "source": [
        "### **Paso 1:** Reducir cantidad de Nodos\n",
        "\n",
        "Debido a que el dataset es muy grande, se toma una muestra"
      ]
    },
    {
      "cell_type": "code",
      "execution_count": 7,
      "metadata": {},
      "outputs": [
        {
          "name": "stdout",
          "output_type": "stream",
          "text": [
            "Antes de la muestra:\n",
            "Número de usuarios únicos: 184707\n",
            "Número de productos únicos: 107686\n",
            "Después de la muestra:\n",
            "Número de usuarios únicos: 18470\n",
            "Número de productos únicos: 10768\n"
          ]
        }
      ],
      "source": [
        "import random\n",
        "\n",
        "users = electronics_data['userId'].unique()\n",
        "products = electronics_data['productId'].unique()\n",
        "\n",
        "print(\"Antes de la muestra:\")\n",
        "print(f\"Número de usuarios únicos: {len(users)}\")\n",
        "print(f\"Número de productos únicos: {len(products)}\")\n",
        "\n",
        "users = list(users)\n",
        "products = list(products)\n",
        "\n",
        "sample_ratio = 0.1\n",
        "\n",
        "num_users = int(len(users) * sample_ratio)\n",
        "num_products = int(len(products) * sample_ratio)\n",
        "\n",
        "random.seed(42)\n",
        "users = random.sample(users, num_users)\n",
        "products = random.sample(products, num_products)\n",
        "\n",
        "print(\"Después de la muestra:\")\n",
        "print(f\"Número de usuarios únicos: {len(users)}\")\n",
        "print(f\"Número de productos únicos: {len(products)}\")"
      ]
    },
    {
      "cell_type": "markdown",
      "metadata": {},
      "source": [
        "### **Paso 2:** Crear red bipartita"
      ]
    },
    {
      "cell_type": "code",
      "execution_count": 8,
      "metadata": {},
      "outputs": [
        {
          "name": "stdout",
          "output_type": "stream",
          "text": [
            "¿Es el grafo bipartito? Sí\n",
            "Número de aristas: 1147489\n"
          ]
        }
      ],
      "source": [
        "import networkx as nx\n",
        "\n",
        "B = nx.Graph()\n",
        "\n",
        "# Agregar nodos al grafo\n",
        "B.add_nodes_from(users, bipartite=0)\n",
        "B.add_nodes_from(products, bipartite=1)\n",
        "\n",
        "# Agregar aristas\n",
        "edges = electronics_data[['userId', 'productId']].values\n",
        "B.add_edges_from(edges)\n",
        "\n",
        "is_bipartite = nx.is_bipartite(B)\n",
        "print(f\"¿Es el grafo bipartito? {\"Sí\" if is_bipartite else \"No\"}\")\n",
        "num_edges = B.number_of_edges()\n",
        "print(\"Número de aristas:\", num_edges)"
      ]
    },
    {
      "cell_type": "markdown",
      "metadata": {},
      "source": [
        "### **Paso 3:** Generar matriz de biadyacencia\n",
        "\n",
        "Se utiliza la matriz de biadyacencia dispersa, que es una forma eficiente de representar grandes grafos bipartitos en memoria.\n",
        "Cada fila representa un usuario y cada columna un producto; los valores distintos de cero indican una conexión (por ejemplo, que el usuario interactuó con o compró ese producto).\n",
        "\n",
        "La razón principal para trabajar con una matriz dispersa (sparse) en lugar de una matriz completa (toarray()) es que la mayoría de las celdas son ceros — es decir, la mayoría de los usuarios no se conectan con todos los productos.\n",
        "Usar una matriz dispersa permite ahorrar memoria y procesar grafos grandes de forma mucho más eficiente."
      ]
    },
    {
      "cell_type": "code",
      "execution_count": 10,
      "metadata": {},
      "outputs": [
        {
          "name": "stdout",
          "output_type": "stream",
          "text": [
            "Matriz de biadyacencia (formato disperso):\n",
            "<Compressed Sparse Row sparse array of dtype 'int64'\n",
            "\twith 11532 stored elements and shape (18470, 10768)>\n",
            "  Coords\tValues\n",
            "  (2, 5156)\t1\n",
            "  (5, 5693)\t1\n",
            "  (5, 10206)\t1\n",
            "  (7, 11)\t1\n",
            "  (9, 1123)\t1\n",
            "  (10, 575)\t1\n",
            "  (10, 1837)\t1\n",
            "  (10, 3982)\t1\n",
            "  (10, 6990)\t1\n",
            "  (12, 7294)\t1\n",
            "  (14, 6874)\t1\n",
            "  (15, 9333)\t1\n",
            "  (16, 8018)\t1\n",
            "  (17, 1170)\t1\n",
            "  (20, 510)\t1\n",
            "  (20, 2456)\t1\n",
            "  (25, 9357)\t1\n",
            "  (28, 969)\t1\n",
            "  (32, 5573)\t1\n",
            "  (33, 1508)\t1\n",
            "  (34, 1949)\t1\n",
            "  (34, 2074)\t1\n",
            "  (41, 3838)\t1\n",
            "  (42, 1328)\t1\n",
            "  (44, 3414)\t1\n",
            "  :\t:\n",
            "  (18443, 7159)\t1\n",
            "  (18445, 9996)\t1\n",
            "  (18448, 3799)\t1\n",
            "  (18448, 10741)\t1\n",
            "  (18450, 276)\t1\n",
            "  (18450, 1543)\t1\n",
            "  (18450, 1802)\t1\n",
            "  (18450, 2037)\t1\n",
            "  (18450, 4422)\t1\n",
            "  (18450, 6596)\t1\n",
            "  (18450, 8436)\t1\n",
            "  (18450, 9591)\t1\n",
            "  (18450, 10404)\t1\n",
            "  (18452, 9644)\t1\n",
            "  (18457, 5665)\t1\n",
            "  (18459, 1543)\t1\n",
            "  (18459, 3397)\t1\n",
            "  (18459, 5650)\t1\n",
            "  (18459, 7432)\t1\n",
            "  (18459, 10737)\t1\n",
            "  (18460, 9124)\t1\n",
            "  (18461, 9643)\t1\n",
            "  (18466, 6169)\t1\n",
            "  (18467, 10730)\t1\n",
            "  (18469, 2694)\t1\n",
            "Tamaño: (18470, 10768)\n",
            "Número de conexiones (valores distintos de 0): 11532\n",
            "\n",
            "Conexiones reales (valores distintos de 0):\n",
            "           userId   productId\n",
            "0  A22M9RH5461NC9  B00007E7JU\n",
            "1  A2MLALM5M89HOT  B003U8ENTI\n",
            "2  A2MLALM5M89HOT  B001KUL012\n",
            "3  A1ORSSRTFMQCY5  B002M3SHXA\n",
            "4   AVFMNO930HKJ5  B005Y5872O\n",
            "5  A1HOS1D36R1YAJ  B0007W1K8M\n",
            "6  A1HOS1D36R1YAJ  B0007WK8LC\n",
            "7  A1HOS1D36R1YAJ  B0000BZ2WA\n",
            "8  A1HOS1D36R1YAJ  B001FWYXD2\n",
            "9  A2HL35J93PQOFW  B0073YCWES\n"
          ]
        }
      ],
      "source": [
        "from networkx.algorithms import bipartite\n",
        "import pandas as pd\n",
        "\n",
        "# Obtener matriz de biadyacencia en formato disperso (sparse)\n",
        "matrix_sparse = bipartite.biadjacency_matrix(B, row_order=users, column_order=products)\n",
        "\n",
        "# Mostrar información general de la matriz\n",
        "print(\"Matriz de biadyacencia (formato disperso):\")\n",
        "print(matrix_sparse)\n",
        "print(f\"Tamaño: {matrix_sparse.shape}\")\n",
        "print(f\"Número de conexiones (valores distintos de 0): {matrix_sparse.nnz}\")\n",
        "\n",
        "# Extraer los índices (posiciones) de los valores distintos de cero\n",
        "row_idx, col_idx = matrix_sparse.nonzero()\n",
        "\n",
        "# Crear un DataFrame con los enlaces reales (usuario - producto)\n",
        "edges_nonzero = pd.DataFrame({\n",
        "    'userId': [users[i] for i in row_idx],\n",
        "    'productId': [products[j] for j in col_idx]\n",
        "})\n",
        "\n",
        "print(\"\\nConexiones reales (valores distintos de 0):\")\n",
        "print(edges_nonzero.head(10))  # Muestra solo los primeros 10 para no saturar la salida"
      ]
    },
    {
      "cell_type": "markdown",
      "metadata": {},
      "source": [
        "### **Paso 4:** Graficar nodos con mayores conexiones\n",
        "\n",
        "Se calculan los grados de los nodos (número de conexiones):\n",
        "\n",
        "- `num_products_rated`: cuántos productos calificó cada usuario.\n",
        "- `num_ratings_received`: cuántos usuarios calificaron cada producto.\n",
        "\n",
        "Luego se seleccionan los Top N nodos más conectados en cada grupo `nlargest`."
      ]
    },
    {
      "cell_type": "code",
      "execution_count": 15,
      "metadata": {},
      "outputs": [
        {
          "name": "stdout",
          "output_type": "stream",
          "text": [
            "\n",
            "Grados de los primeros usuarios:\n",
            "           userId  num_products_rated\n",
            "0  A3RNVG2VPZGC6Z                   4\n",
            "1  A2MLPFHL4YOZX0                   7\n",
            "2  A22M9RH5461NC9                   9\n",
            "3  A2B09MGT1H44LY                   5\n",
            "4  A24L9693W832UC                   4\n",
            "\n",
            "Grados de los primeros productos:\n",
            "    productId  num_ratings_received\n",
            "0  B0041NO0EY                     1\n",
            "1  B000VOUSPC                     1\n",
            "2  B0054OWTCO                     2\n",
            "3  B0052UQXFY                     8\n",
            "4  B000J4WPW8                    56\n"
          ]
        },
        {
          "name": "stderr",
          "output_type": "stream",
          "text": [
            "C:\\Users\\chris\\AppData\\Local\\Temp\\ipykernel_39176\\2185075639.py:29: FutureWarning: \n",
            "\n",
            "Passing `palette` without assigning `hue` is deprecated and will be removed in v0.14.0. Assign the `y` variable to `hue` and set `legend=False` for the same effect.\n",
            "\n",
            "  sns.barplot(data=top_users, x=\"num_products_rated\", y=\"userId\", palette=\"Blues_d\")\n",
            "C:\\Users\\chris\\AppData\\Local\\Temp\\ipykernel_39176\\2185075639.py:36: FutureWarning: \n",
            "\n",
            "Passing `palette` without assigning `hue` is deprecated and will be removed in v0.14.0. Assign the `y` variable to `hue` and set `legend=False` for the same effect.\n",
            "\n",
            "  sns.barplot(data=top_products, x=\"num_ratings_received\", y=\"productId\", palette=\"Greens_d\")\n"
          ]
        },
        {
          "data": {
            "image/png": "[encoded data removed]",
            "text/plain": [
              "<Figure size 1400x600 with 2 Axes>"
            ]
          },
          "metadata": {},
          "output_type": "display_data"
        }
      ],
      "source": [
        "import networkx as nx\n",
        "import pandas as pd\n",
        "import matplotlib.pyplot as plt\n",
        "from networkx.algorithms import bipartite\n",
        "import seaborn as sns\n",
        "\n",
        "# Calcular grados de los usuarios y productos\n",
        "user_degrees = dict(B.degree(users))\n",
        "product_degrees = dict(B.degree(products))\n",
        "\n",
        "user_deg_df = pd.DataFrame(user_degrees.items(), columns=[\"userId\", \"num_products_rated\"])\n",
        "product_deg_df = pd.DataFrame(product_degrees.items(), columns=[\"productId\", \"num_ratings_received\"])\n",
        "\n",
        "print(\"\\nGrados de los primeros usuarios:\")\n",
        "print(user_deg_df.head())\n",
        "\n",
        "print(\"\\nGrados de los primeros productos:\")\n",
        "print(product_deg_df.head())\n",
        "\n",
        "# --- Top N nodos ---\n",
        "N = 10\n",
        "top_users = user_deg_df.nlargest(N, \"num_products_rated\")\n",
        "top_products = product_deg_df.nlargest(N, \"num_ratings_received\")\n",
        "\n",
        "plt.figure(figsize=(14, 6))\n",
        "\n",
        "# Top N usuarios más activos\n",
        "plt.subplot(1, 2, 1)\n",
        "sns.barplot(data=top_users, x=\"num_products_rated\", y=\"userId\", palette=\"Blues_d\")\n",
        "plt.title(f\"Top {N} usuarios más activos\")\n",
        "plt.xlabel(\"Número de productos calificados\")\n",
        "plt.ylabel(\"ID de usuario\")\n",
        "\n",
        "# Top N productos más reseñados\n",
        "plt.subplot(1, 2, 2)\n",
        "sns.barplot(data=top_products, x=\"num_ratings_received\", y=\"productId\", palette=\"Greens_d\")\n",
        "plt.title(f\"Top {N} productos más reseñados\")\n",
        "plt.xlabel(\"Número de reseñas recibidas\")\n",
        "plt.ylabel(\"ID de producto\")\n",
        "\n",
        "plt.tight_layout()\n",
        "plt.show()\n"
      ]
    },
    {
      "cell_type": "markdown",
      "metadata": {},
      "source": [
        "#### **Paso 4.1:** Mostrar resultado final"
      ]
    },
    {
      "cell_type": "code",
      "execution_count": 19,
      "metadata": {},
      "outputs": [
        {
          "name": "stdout",
          "output_type": "stream",
          "text": [
            "Número de usuarios: 18470\n",
            "Número de productos: 10768\n",
            "Número de aristas (reseñas de 5 estrellas): 1147489\n",
            "Grado promedio de usuarios: 6.19\n",
            "Grado promedio de productos: 10.82\n"
          ]
        }
      ],
      "source": [
        "import numpy as np\n",
        "\n",
        "# Calcular grados de los usuarios y productos\n",
        "user_degrees = dict(B.degree(users))\n",
        "product_degrees = dict(B.degree(products))\n",
        "\n",
        "print(f\"Número de usuarios: {len(users)}\")\n",
        "print(f\"Número de productos: {len(products)}\")\n",
        "print(f\"Número de aristas (reseñas de 5 estrellas): {B.number_of_edges()}\")\n",
        "print(f\"Grado promedio de usuarios: {np.mean(list(user_degrees.values())):.2f}\")\n",
        "print(f\"Grado promedio de productos: {np.mean(list(product_degrees.values())):.2f}\")"
      ]
    },
    {
      "cell_type": "markdown",
      "metadata": {},
      "source": [
        "## Proyección Bipartita y Red de Productos"
      ]
    },
    {
      "cell_type": "markdown",
      "metadata": {},
      "source": [
        "## Desarrollo del Sistema de Recomendación"
      ]
    },
    {
      "cell_type": "markdown",
      "metadata": {},
      "source": [
        "## Visualización, Análisis e Interactividad"
      ]
    },
    {
      "cell_type": "markdown",
      "metadata": {},
      "source": []
    }
  ],
  "metadata": {
    "colab": {
      "provenance": [],
      "toc_visible": true
    },
    "kernelspec": {
      "display_name": "udla-ia",
      "language": "python",
      "name": "python3"
    },
    "language_info": {
      "codemirror_mode": {
        "name": "ipython",
        "version": 3
      },
      "file_extension": ".py",
      "mimetype": "text/x-python",
      "name": "python",
      "nbconvert_exporter": "python",
      "pygments_lexer": "ipython3",
      "version": "3.12.11"
    }
  },
  "nbformat": 4,
  "nbformat_minor": 0
}
