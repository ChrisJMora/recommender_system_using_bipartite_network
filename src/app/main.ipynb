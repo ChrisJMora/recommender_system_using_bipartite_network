{
 "cells": [
  {
   "cell_type": "markdown",
   "metadata": {
    "id": "S_7K0QrybjiZ"
   },
   "source": [
    "Importación de las bibliotecas"
   ]
  },
  {
   "cell_type": "markdown",
   "metadata": {},
   "source": [
    "## 📊 Estructura del Notebook\n",
    "\n",
    "Este notebook implementa un **Sistema de Recomendación basado en Redes Bipartitas** utilizando el dataset de Amazon Electronics Reviews.\n",
    "\n",
    "### Secciones principales:\n",
    "\n",
    "1. **Construcción del Grafo Bipartito**\n",
    "   - Carga de datos con rutas relativas\n",
    "   - Filtrado de reseñas de 5 estrellas\n",
    "   - Creación del grafo bipartito (usuarios ↔ productos)\n",
    "   - Visualización de la matriz de biadyacencia\n",
    "\n",
    "2. **Análisis de la Red Bipartita**\n",
    "   - Cálculo de grados de conectividad\n",
    "   - Identificación de usuarios y productos más activos\n",
    "   - Visualización de distribuciones\n",
    "\n",
    "3. **Proyección a Red de Productos**\n",
    "   - Proyección ponderada sobre productos\n",
    "   - Análisis de pesos (usuarios compartidos)\n",
    "\n",
    "4. **Sistema de Recomendación**\n",
    "   - Algoritmo: **Similaridad de Jaccard**\n",
    "   - Métricas de evaluación\n",
    "   - Filtrado de productos duplicados\n",
    "\n",
    "5. **Visualización e Interactividad**\n",
    "   - Red estrella (star network) con producto central\n",
    "   - Interfaz interactiva con dropdowns (ipywidgets)\n",
    "   - Selección dinámica de productos y número de recomendaciones\n",
    "\n",
    "---"
   ]
  },
  {
   "cell_type": "code",
   "execution_count": 1,
   "metadata": {},
   "outputs": [],
   "source": [
    "from IPython.core.interactiveshell import InteractiveShell\n",
    "InteractiveShell.ast_node_interactivity = \"all\"\n",
    "import warnings; warnings.simplefilter('ignore')\n",
    "%matplotlib inline"
   ]
  },
  {
   "cell_type": "markdown",
   "metadata": {},
   "source": [
    "# Sistema de recomendación usando una proyección de red bipartita\n",
    "\n",
    "**Integrantes:** Isaac Cerda, David Guamán, Christian Jácome, Mateo Jaramillo, David Navarrete"
   ]
  },
  {
   "cell_type": "markdown",
   "metadata": {},
   "source": [
    "## Preparación de Datos"
   ]
  },
  {
   "cell_type": "markdown",
   "metadata": {},
   "source": [
    "### **Paso 1:** Descargar el Dataset\n",
    "Ejecutar **SOLO** si **NO** se tiene la carpeta `data` en el directorio `src/app` con el archivo `ratings_electronics.csv`"
   ]
  },
  {
   "cell_type": "code",
   "execution_count": 2,
   "metadata": {},
   "outputs": [
    {
     "ename": "ModuleNotFoundError",
     "evalue": "No module named 'kagglehub'",
     "output_type": "error",
     "traceback": [
      "\u001b[1;31m---------------------------------------------------------------------------\u001b[0m",
      "\u001b[1;31mModuleNotFoundError\u001b[0m                       Traceback (most recent call last)",
      "Cell \u001b[1;32mIn[2], line 1\u001b[0m\n\u001b[1;32m----> 1\u001b[0m \u001b[38;5;28;01mfrom\u001b[39;00m\u001b[38;5;250m \u001b[39m\u001b[38;5;21;01mutils\u001b[39;00m\u001b[38;5;21;01m.\u001b[39;00m\u001b[38;5;21;01mdownload_dataset\u001b[39;00m\u001b[38;5;250m \u001b[39m\u001b[38;5;28;01mimport\u001b[39;00m download_ratings_electronics\n\u001b[0;32m      3\u001b[0m dataset_path \u001b[38;5;241m=\u001b[39m download_ratings_electronics()\n",
      "File \u001b[1;32mc:\\Users\\isaac\\Documents\\IA\\recommender_system_using_bipartite_network\\src\\app\\utils\\download_dataset.py:2\u001b[0m\n\u001b[0;32m      1\u001b[0m \u001b[38;5;28;01mimport\u001b[39;00m\u001b[38;5;250m \u001b[39m\u001b[38;5;21;01mos\u001b[39;00m\n\u001b[1;32m----> 2\u001b[0m \u001b[38;5;28;01mimport\u001b[39;00m\u001b[38;5;250m \u001b[39m\u001b[38;5;21;01mkagglehub\u001b[39;00m\n\u001b[0;32m      3\u001b[0m \u001b[38;5;28;01mimport\u001b[39;00m\u001b[38;5;250m \u001b[39m\u001b[38;5;21;01mshutil\u001b[39;00m\n\u001b[0;32m      5\u001b[0m \u001b[38;5;28;01mdef\u001b[39;00m\u001b[38;5;250m \u001b[39m\u001b[38;5;21mdownload_ratings_electronics\u001b[39m():\n\u001b[0;32m      6\u001b[0m     \u001b[38;5;66;03m# Carpeta y nombres de archivo\u001b[39;00m\n",
      "\u001b[1;31mModuleNotFoundError\u001b[0m: No module named 'kagglehub'"
     ]
    }
   ],
   "source": [
    "from utils.download_dataset import download_ratings_electronics\n",
    "\n",
    "dataset_path = download_ratings_electronics()"
   ]
  },
  {
   "cell_type": "markdown",
   "metadata": {
    "id": "fTIsY-bibm7r"
   },
   "source": [
    "### **Paso 2:** Cargar el Dataset"
   ]
  },
  {
   "cell_type": "code",
   "execution_count": 42,
   "metadata": {
    "colab": {
     "base_uri": "https://localhost:8080/",
     "height": 224
    },
    "id": "O9Rj8f42bi-1",
    "outputId": "f71c5cce-b018-4ba7-a0ab-f524f0960b9d"
   },
   "outputs": [
    {
     "data": {
      "text/html": [
       "<div>\n",
       "<style scoped>\n",
       "    .dataframe tbody tr th:only-of-type {\n",
       "        vertical-align: middle;\n",
       "    }\n",
       "\n",
       "    .dataframe tbody tr th {\n",
       "        vertical-align: top;\n",
       "    }\n",
       "\n",
       "    .dataframe thead th {\n",
       "        text-align: right;\n",
       "    }\n",
       "</style>\n",
       "<table border=\"1\" class=\"dataframe\">\n",
       "  <thead>\n",
       "    <tr style=\"text-align: right;\">\n",
       "      <th></th>\n",
       "      <th>userId</th>\n",
       "      <th>productId</th>\n",
       "      <th>Rating</th>\n",
       "      <th>timestamp</th>\n",
       "    </tr>\n",
       "  </thead>\n",
       "  <tbody>\n",
       "    <tr>\n",
       "      <th>0</th>\n",
       "      <td>AKM1MP6P0OYPR</td>\n",
       "      <td>0132793040</td>\n",
       "      <td>5.0</td>\n",
       "      <td>1365811200</td>\n",
       "    </tr>\n",
       "    <tr>\n",
       "      <th>1</th>\n",
       "      <td>A2CX7LUOHB2NDG</td>\n",
       "      <td>0321732944</td>\n",
       "      <td>5.0</td>\n",
       "      <td>1341100800</td>\n",
       "    </tr>\n",
       "    <tr>\n",
       "      <th>2</th>\n",
       "      <td>A2NWSAGRHCP8N5</td>\n",
       "      <td>0439886341</td>\n",
       "      <td>1.0</td>\n",
       "      <td>1367193600</td>\n",
       "    </tr>\n",
       "    <tr>\n",
       "      <th>3</th>\n",
       "      <td>A2WNBOD3WNDNKT</td>\n",
       "      <td>0439886341</td>\n",
       "      <td>3.0</td>\n",
       "      <td>1374451200</td>\n",
       "    </tr>\n",
       "    <tr>\n",
       "      <th>4</th>\n",
       "      <td>A1GI0U4ZRJA8WN</td>\n",
       "      <td>0439886341</td>\n",
       "      <td>1.0</td>\n",
       "      <td>1334707200</td>\n",
       "    </tr>\n",
       "  </tbody>\n",
       "</table>\n",
       "</div>"
      ],
      "text/plain": [
       "           userId   productId  Rating   timestamp\n",
       "0   AKM1MP6P0OYPR  0132793040     5.0  1365811200\n",
       "1  A2CX7LUOHB2NDG  0321732944     5.0  1341100800\n",
       "2  A2NWSAGRHCP8N5  0439886341     1.0  1367193600\n",
       "3  A2WNBOD3WNDNKT  0439886341     3.0  1374451200\n",
       "4  A1GI0U4ZRJA8WN  0439886341     1.0  1334707200"
      ]
     },
     "execution_count": 42,
     "metadata": {},
     "output_type": "execute_result"
    }
   ],
   "source": [
    "import pandas as pd\n",
    "import os\n",
    "\n",
    "# Ruta relativa al dataset desde la ubicación del notebook\n",
    "dataset_path = os.path.join(os.path.dirname(os.path.abspath('__file__')), \n",
    "                            'data', 'amazon-products-reviews', 'ratings_electronics.csv')\n",
    "\n",
    "# Carga del dataset\n",
    "electronics_data = pd.read_csv(\n",
    "    dataset_path, names=['userId', 'productId', 'Rating', 'timestamp']\n",
    ")\n",
    "\n",
    "# Impresión de las primeras 5 filas\n",
    "electronics_data.head()"
   ]
  },
  {
   "cell_type": "markdown",
   "metadata": {
    "id": "ETDbEux5hqHw"
   },
   "source": [
    "#### **Paso 2.1:** Revisar cantidad de datos del Dataset"
   ]
  },
  {
   "cell_type": "code",
   "execution_count": 3,
   "metadata": {
    "colab": {
     "base_uri": "https://localhost:8080/",
     "height": 509
    },
    "id": "2t4Gzj3fhpG2",
    "outputId": "9524a2d2-0629-49ce-dcfc-900636a87aa3"
   },
   "outputs": [
    {
     "name": "stdout",
     "output_type": "stream",
     "text": [
      "<class 'pandas.core.frame.DataFrame'>\n",
      "RangeIndex: 7824482 entries, 0 to 7824481\n",
      "Data columns (total 4 columns):\n",
      " #   Column     Dtype  \n",
      "---  ------     -----  \n",
      " 0   userId     object \n",
      " 1   productId  object \n",
      " 2   Rating     float64\n",
      " 3   timestamp  int64  \n",
      "dtypes: float64(1), int64(1), object(2)\n",
      "memory usage: 238.8+ MB\n",
      "Total registros: 7,824,482\n",
      "Total registros: 7,824,482\n"
     ]
    }
   ],
   "source": [
    "electronics_data.info()\n",
    "electronics_data.describe()\n",
    "print(f\"Total registros: {len(electronics_data):,}\")"
   ]
  },
  {
   "cell_type": "markdown",
   "metadata": {
    "id": "p3ZVNz3vhuJc"
   },
   "source": [
    "### **Paso 3:** Filtrar reseñas de 5 estrellas"
   ]
  },
  {
   "cell_type": "code",
   "execution_count": 4,
   "metadata": {
    "colab": {
     "base_uri": "https://localhost:8080/"
    },
    "id": "7anER47ehtgK",
    "outputId": "770e65a9-7393-492e-f097-93dc2bba2e6f"
   },
   "outputs": [
    {
     "name": "stdout",
     "output_type": "stream",
     "text": [
      "Registros luego de filtrar 5 estrellas: 4,347,541\n"
     ]
    }
   ],
   "source": [
    "electronics_data = electronics_data[electronics_data['Rating'] == 5]\n",
    "print(f\"Registros luego de filtrar 5 estrellas: {len(electronics_data):,}\")"
   ]
  },
  {
   "cell_type": "markdown",
   "metadata": {
    "id": "Dtaj4hzQhzzr"
   },
   "source": [
    "### **Paso 4:** Eliminar usuarios y productos con pocas conexiones"
   ]
  },
  {
   "cell_type": "code",
   "execution_count": 5,
   "metadata": {
    "colab": {
     "base_uri": "https://localhost:8080/"
    },
    "id": "-_C-wCBFh31Y",
    "outputId": "ad715358-16fe-4171-f6b9-34a64db639db"
   },
   "outputs": [
    {
     "name": "stdout",
     "output_type": "stream",
     "text": [
      "Registros tras filtrado de conexiones mínimas: 1,147,489\n"
     ]
    }
   ],
   "source": [
    "# Contar cuántos ratings tiene cada usuario y producto\n",
    "user_counts = electronics_data['userId'].value_counts()\n",
    "product_counts = electronics_data['productId'].value_counts()\n",
    "\n",
    "# Mantener usuarios y productos con al menos 4 interacciones\n",
    "min_user_reviews = 4\n",
    "min_product_reviews = 4\n",
    "\n",
    "filtered_users = user_counts[user_counts >= min_user_reviews].index\n",
    "filtered_products = product_counts[product_counts >= min_product_reviews].index\n",
    "\n",
    "electronics_data = electronics_data[\n",
    "    electronics_data['userId'].isin(filtered_users) &\n",
    "    electronics_data['productId'].isin(filtered_products)\n",
    "]\n",
    "\n",
    "print(f\"Registros tras filtrado de conexiones mínimas: {len(electronics_data):,}\")\n"
   ]
  },
  {
   "cell_type": "markdown",
   "metadata": {
    "id": "F3XuuMohikJw"
   },
   "source": [
    "#### **Paso 4.1:** Validar campos nulos tras el filtrado"
   ]
  },
  {
   "cell_type": "code",
   "execution_count": 6,
   "metadata": {
    "colab": {
     "base_uri": "https://localhost:8080/",
     "height": 210
    },
    "id": "MGAVlfO-imxB",
    "outputId": "142dc6f4-c712-4e80-e19b-16edfec8fa25"
   },
   "outputs": [
    {
     "data": {
      "text/plain": [
       "userId       0\n",
       "productId    0\n",
       "Rating       0\n",
       "timestamp    0\n",
       "dtype: int64"
      ]
     },
     "execution_count": 6,
     "metadata": {},
     "output_type": "execute_result"
    }
   ],
   "source": [
    "electronics_data.isnull().sum()"
   ]
  },
  {
   "cell_type": "markdown",
   "metadata": {},
   "source": [
    "## Construcción de la Red Bipartita"
   ]
  },
  {
   "cell_type": "markdown",
   "metadata": {},
   "source": [
    "---\n",
    "\n",
    "## **Sección 1: Construcción del Grafo Bipartito**\n",
    "\n",
    "El grafo bipartito conecta dos conjuntos disjuntos de nodos:\n",
    "- **Conjunto U**: Usuarios que califican productos\n",
    "- **Conjunto V**: Productos que reciben calificaciones\n",
    "\n",
    "Las aristas representan interacciones (calificaciones de 5 estrellas) entre usuarios y productos."
   ]
  },
  {
   "cell_type": "markdown",
   "metadata": {},
   "source": [
    "### **Paso 1:** Reducir cantidad de Nodos\n",
    "\n",
    "Debido a que el dataset es muy grande, se toma una muestra"
   ]
  },
  {
   "cell_type": "code",
   "execution_count": 7,
   "metadata": {},
   "outputs": [
    {
     "name": "stdout",
     "output_type": "stream",
     "text": [
      "Antes de la muestra:\n",
      "Número de usuarios únicos: 184707\n",
      "Número de productos únicos: 107686\n",
      "Después de la muestra:\n",
      "Número de usuarios únicos: 18470\n",
      "Número de productos únicos: 10768\n"
     ]
    }
   ],
   "source": [
    "import random\n",
    "\n",
    "users = electronics_data['userId'].unique()\n",
    "products = electronics_data['productId'].unique()\n",
    "\n",
    "print(\"Antes de la muestra:\")\n",
    "print(f\"Número de usuarios únicos: {len(users)}\")\n",
    "print(f\"Número de productos únicos: {len(products)}\")\n",
    "\n",
    "users = list(users)\n",
    "products = list(products)\n",
    "\n",
    "sample_ratio = 0.1\n",
    "\n",
    "num_users = int(len(users) * sample_ratio)\n",
    "num_products = int(len(products) * sample_ratio)\n",
    "\n",
    "random.seed(42)\n",
    "users = random.sample(users, num_users)\n",
    "products = random.sample(products, num_products)\n",
    "\n",
    "print(\"Después de la muestra:\")\n",
    "print(f\"Número de usuarios únicos: {len(users)}\")\n",
    "print(f\"Número de productos únicos: {len(products)}\")"
   ]
  },
  {
   "cell_type": "markdown",
   "metadata": {},
   "source": [
    "### **Paso 2:** Crear red bipartita"
   ]
  },
  {
   "cell_type": "code",
   "execution_count": 8,
   "metadata": {},
   "outputs": [
    {
     "name": "stdout",
     "output_type": "stream",
     "text": [
      "¿Es el grafo bipartito? Sí\n",
      "Número de aristas: 1147489\n"
     ]
    }
   ],
   "source": [
    "import networkx as nx\n",
    "\n",
    "B = nx.Graph()\n",
    "\n",
    "# Agregar nodos al grafo\n",
    "B.add_nodes_from(users, bipartite=0)\n",
    "B.add_nodes_from(products, bipartite=1)\n",
    "\n",
    "# Agregar aristas\n",
    "edges = electronics_data[['userId', 'productId']].values\n",
    "B.add_edges_from(edges)\n",
    "\n",
    "is_bipartite = nx.is_bipartite(B)\n",
    "print(f\"¿Es el grafo bipartito? {\"Sí\" if is_bipartite else \"No\"}\")\n",
    "num_edges = B.number_of_edges()\n",
    "print(\"Número de aristas:\", num_edges)"
   ]
  },
  {
   "cell_type": "markdown",
   "metadata": {},
   "source": [
    "### **Paso 3:** Generar matriz de biadyacencia\n",
    "\n",
    "Se utiliza la matriz de biadyacencia dispersa, que es una forma eficiente de representar grandes grafos bipartitos en memoria.\n",
    "\n",
    "- Cada **fila** representa un usuario\n",
    "- Cada **columna** representa un producto  \n",
    "- Los valores **distintos de cero** indican una conexión (interacción usuario-producto)\n",
    "\n",
    "La razón principal para trabajar con una matriz dispersa (sparse) en lugar de una matriz completa es que la mayoría de las celdas son ceros, permitiendo ahorrar memoria y procesar grafos grandes de forma eficiente."
   ]
  },
  {
   "cell_type": "code",
   "execution_count": 9,
   "metadata": {},
   "outputs": [
    {
     "name": "stdout",
     "output_type": "stream",
     "text": [
      "Matriz de biadyacencia (formato disperso):\n",
      "<Compressed Sparse Row sparse array of dtype 'int64'\n",
      "\twith 11532 stored elements and shape (18470, 10768)>\n",
      "  Coords\tValues\n",
      "  (2, 5156)\t1\n",
      "  (5, 5693)\t1\n",
      "  (5, 10206)\t1\n",
      "  (7, 11)\t1\n",
      "  (9, 1123)\t1\n",
      "  (10, 575)\t1\n",
      "  (10, 1837)\t1\n",
      "  (10, 3982)\t1\n",
      "  (10, 6990)\t1\n",
      "  (12, 7294)\t1\n",
      "  (14, 6874)\t1\n",
      "  (15, 9333)\t1\n",
      "  (16, 8018)\t1\n",
      "  (17, 1170)\t1\n",
      "  (20, 510)\t1\n",
      "  (20, 2456)\t1\n",
      "  (25, 9357)\t1\n",
      "  (28, 969)\t1\n",
      "  (32, 5573)\t1\n",
      "  (33, 1508)\t1\n",
      "  (34, 1949)\t1\n",
      "  (34, 2074)\t1\n",
      "  (41, 3838)\t1\n",
      "  (42, 1328)\t1\n",
      "  (44, 3414)\t1\n",
      "  :\t:\n",
      "  (18443, 7159)\t1\n",
      "  (18445, 9996)\t1\n",
      "  (18448, 3799)\t1\n",
      "  (18448, 10741)\t1\n",
      "  (18450, 276)\t1\n",
      "  (18450, 1543)\t1\n",
      "  (18450, 1802)\t1\n",
      "  (18450, 2037)\t1\n",
      "  (18450, 4422)\t1\n",
      "  (18450, 6596)\t1\n",
      "  (18450, 8436)\t1\n",
      "  (18450, 9591)\t1\n",
      "  (18450, 10404)\t1\n",
      "  (18452, 9644)\t1\n",
      "  (18457, 5665)\t1\n",
      "  (18459, 1543)\t1\n",
      "  (18459, 3397)\t1\n",
      "  (18459, 5650)\t1\n",
      "  (18459, 7432)\t1\n",
      "  (18459, 10737)\t1\n",
      "  (18460, 9124)\t1\n",
      "  (18461, 9643)\t1\n",
      "  (18466, 6169)\t1\n",
      "  (18467, 10730)\t1\n",
      "  (18469, 2694)\t1\n",
      "Tamaño: (18470, 10768)\n",
      "Número de conexiones (valores distintos de 0): 11532\n",
      "\n",
      "Conexiones reales (valores distintos de 0):\n",
      "           userId   productId\n",
      "0  A22M9RH5461NC9  B00007E7JU\n",
      "1  A2MLALM5M89HOT  B003U8ENTI\n",
      "2  A2MLALM5M89HOT  B001KUL012\n",
      "3  A1ORSSRTFMQCY5  B002M3SHXA\n",
      "4   AVFMNO930HKJ5  B005Y5872O\n",
      "5  A1HOS1D36R1YAJ  B0007W1K8M\n",
      "6  A1HOS1D36R1YAJ  B0007WK8LC\n",
      "7  A1HOS1D36R1YAJ  B0000BZ2WA\n",
      "8  A1HOS1D36R1YAJ  B001FWYXD2\n",
      "9  A2HL35J93PQOFW  B0073YCWES\n"
     ]
    }
   ],
   "source": [
    "from networkx.algorithms import bipartite\n",
    "import pandas as pd\n",
    "\n",
    "# Obtener matriz de biadyacencia en formato disperso (sparse)\n",
    "matrix_sparse = bipartite.biadjacency_matrix(B, row_order=users, column_order=products)\n",
    "\n",
    "# Mostrar información general de la matriz\n",
    "print(\"Matriz de biadyacencia (formato disperso):\")\n",
    "print(matrix_sparse)\n",
    "print(f\"Tamaño: {matrix_sparse.shape}\")\n",
    "print(f\"Número de conexiones (valores distintos de 0): {matrix_sparse.nnz}\")\n",
    "\n",
    "# Extraer los índices (posiciones) de los valores distintos de cero\n",
    "row_idx, col_idx = matrix_sparse.nonzero()\n",
    "\n",
    "# Crear un DataFrame con los enlaces reales (usuario - producto)\n",
    "edges_nonzero = pd.DataFrame({\n",
    "    'userId': [users[i] for i in row_idx],\n",
    "    'productId': [products[j] for j in col_idx]\n",
    "})\n",
    "\n",
    "print(\"\\nConexiones reales (valores distintos de 0):\")\n",
    "print(edges_nonzero.head(10))  # Muestra solo los primeros 10 para no saturar la salida"
   ]
  },
  {
   "cell_type": "code",
   "execution_count": 43,
   "metadata": {},
   "outputs": [
    {
     "data": {
      "image/png": "[encoded data removed]",
      "text/plain": [
       "<Figure size 1200x800 with 1 Axes>"
      ]
     },
     "metadata": {},
     "output_type": "display_data"
    },
    {
     "name": "stdout",
     "output_type": "stream",
     "text": [
      "\n",
      "Visualizando 15 usuarios × 15 productos\n",
      "Conexiones en esta muestra: 1\n"
     ]
    }
   ],
   "source": [
    "import matplotlib.pyplot as plt\n",
    "import seaborn as sns\n",
    "\n",
    "# Visualización de la matriz de biadyacencia (muestra pequeña)\n",
    "fig, ax = plt.subplots(figsize=(12, 8))\n",
    "\n",
    "# Tomar una muestra pequeña para visualización\n",
    "sample_users = users[:15] if len(users) >= 15 else users\n",
    "sample_products = products[:15] if len(products) >= 15 else products\n",
    "\n",
    "# Obtener submatriz para la muestra\n",
    "user_indices = [users.index(u) for u in sample_users]\n",
    "product_indices = [products.index(p) for p in sample_products]\n",
    "sample_matrix = matrix_sparse[user_indices, :][:, product_indices].toarray()\n",
    "\n",
    "# Crear heatmap\n",
    "sns.heatmap(sample_matrix, \n",
    "            cmap='binary',\n",
    "            cbar=False,\n",
    "            xticklabels=[p[-8:] for p in sample_products],\n",
    "            yticklabels=[f'U{i+1}' for i in range(len(sample_users))],\n",
    "            square=True,\n",
    "            linewidths=0.5,\n",
    "            linecolor='gray',\n",
    "            ax=ax)\n",
    "\n",
    "ax.set_xlabel('Productos', fontsize=12, fontweight='bold')\n",
    "ax.set_ylabel('Usuarios', fontsize=12, fontweight='bold')\n",
    "ax.set_title('Matriz de Biadyacencia (Grafo Bipartito)\\nNegro = Conexión, Blanco = Sin Conexión', \n",
    "             fontsize=14, fontweight='bold', pad=20)\n",
    "\n",
    "plt.xticks(rotation=45, ha='right', fontsize=9)\n",
    "plt.yticks(fontsize=9)\n",
    "plt.tight_layout()\n",
    "plt.show()\n",
    "\n",
    "print(f\"\\nVisualizando {len(sample_users)} usuarios × {len(sample_products)} productos\")\n",
    "print(f\"Conexiones en esta muestra: {sample_matrix.sum():.0f}\")"
   ]
  },
  {
   "cell_type": "markdown",
   "metadata": {},
   "source": [
    "---\n",
    "\n",
    "## **Sección 2: Análisis de la Red Bipartita**"
   ]
  },
  {
   "cell_type": "markdown",
   "metadata": {},
   "source": [
    "### **Paso 4:** Graficar nodos con mayores conexiones\n",
    "\n",
    "Se calculan los grados de los nodos (número de conexiones):\n",
    "\n",
    "- `num_products_rated`: cuántos productos calificó cada usuario.\n",
    "- `num_ratings_received`: cuántos usuarios calificaron cada producto.\n",
    "\n",
    "Luego se seleccionan los Top N nodos más conectados en cada grupo `nlargest`."
   ]
  },
  {
   "cell_type": "code",
   "execution_count": 10,
   "metadata": {},
   "outputs": [
    {
     "name": "stdout",
     "output_type": "stream",
     "text": [
      "\n",
      "Grados de los primeros usuarios:\n",
      "           userId  num_products_rated\n",
      "0  A3RNVG2VPZGC6Z                   4\n",
      "1  A2MLPFHL4YOZX0                   7\n",
      "2  A22M9RH5461NC9                   9\n",
      "3  A2B09MGT1H44LY                   5\n",
      "4  A24L9693W832UC                   4\n",
      "\n",
      "Grados de los primeros productos:\n",
      "    productId  num_ratings_received\n",
      "0  B0041NO0EY                     1\n",
      "1  B000VOUSPC                     1\n",
      "2  B0054OWTCO                     2\n",
      "3  B0052UQXFY                     8\n",
      "4  B000J4WPW8                    56\n"
     ]
    },
    {
     "name": "stderr",
     "output_type": "stream",
     "text": [
      "C:\\Users\\isaac\\AppData\\Local\\Temp\\ipykernel_16616\\2185075639.py:29: FutureWarning: \n",
      "\n",
      "Passing `palette` without assigning `hue` is deprecated and will be removed in v0.14.0. Assign the `y` variable to `hue` and set `legend=False` for the same effect.\n",
      "\n",
      "  sns.barplot(data=top_users, x=\"num_products_rated\", y=\"userId\", palette=\"Blues_d\")\n",
      "C:\\Users\\isaac\\AppData\\Local\\Temp\\ipykernel_16616\\2185075639.py:36: FutureWarning: \n",
      "\n",
      "Passing `palette` without assigning `hue` is deprecated and will be removed in v0.14.0. Assign the `y` variable to `hue` and set `legend=False` for the same effect.\n",
      "\n",
      "  sns.barplot(data=top_products, x=\"num_ratings_received\", y=\"productId\", palette=\"Greens_d\")\n"
     ]
    },
    {
     "data": {
      "image/png": "[encoded data removed]",
      "text/plain": [
       "<Figure size 1400x600 with 2 Axes>"
      ]
     },
     "metadata": {},
     "output_type": "display_data"
    }
   ],
   "source": [
    "import networkx as nx\n",
    "import pandas as pd\n",
    "import matplotlib.pyplot as plt\n",
    "from networkx.algorithms import bipartite\n",
    "import seaborn as sns\n",
    "\n",
    "# Calcular grados de los usuarios y productos\n",
    "user_degrees = dict(B.degree(users))\n",
    "product_degrees = dict(B.degree(products))\n",
    "\n",
    "user_deg_df = pd.DataFrame(user_degrees.items(), columns=[\"userId\", \"num_products_rated\"])\n",
    "product_deg_df = pd.DataFrame(product_degrees.items(), columns=[\"productId\", \"num_ratings_received\"])\n",
    "\n",
    "print(\"\\nGrados de los primeros usuarios:\")\n",
    "print(user_deg_df.head())\n",
    "\n",
    "print(\"\\nGrados de los primeros productos:\")\n",
    "print(product_deg_df.head())\n",
    "\n",
    "# --- Top N nodos ---\n",
    "N = 10\n",
    "top_users = user_deg_df.nlargest(N, \"num_products_rated\")\n",
    "top_products = product_deg_df.nlargest(N, \"num_ratings_received\")\n",
    "\n",
    "plt.figure(figsize=(14, 6))\n",
    "\n",
    "# Top N usuarios más activos\n",
    "plt.subplot(1, 2, 1)\n",
    "sns.barplot(data=top_users, x=\"num_products_rated\", y=\"userId\", palette=\"Blues_d\")\n",
    "plt.title(f\"Top {N} usuarios más activos\")\n",
    "plt.xlabel(\"Número de productos calificados\")\n",
    "plt.ylabel(\"ID de usuario\")\n",
    "\n",
    "# Top N productos más reseñados\n",
    "plt.subplot(1, 2, 2)\n",
    "sns.barplot(data=top_products, x=\"num_ratings_received\", y=\"productId\", palette=\"Greens_d\")\n",
    "plt.title(f\"Top {N} productos más reseñados\")\n",
    "plt.xlabel(\"Número de reseñas recibidas\")\n",
    "plt.ylabel(\"ID de producto\")\n",
    "\n",
    "plt.tight_layout()\n",
    "plt.show()\n"
   ]
  },
  {
   "cell_type": "markdown",
   "metadata": {},
   "source": [
    "#### **Paso 4.1:** Mostrar resultado final"
   ]
  },
  {
   "cell_type": "code",
   "execution_count": 11,
   "metadata": {},
   "outputs": [
    {
     "name": "stdout",
     "output_type": "stream",
     "text": [
      "Número de usuarios: 18470\n",
      "Número de productos: 10768\n",
      "Número de aristas (reseñas de 5 estrellas): 1147489\n",
      "Grado promedio de usuarios: 6.19\n",
      "Grado promedio de productos: 10.82\n"
     ]
    }
   ],
   "source": [
    "import numpy as np\n",
    "\n",
    "# Calcular grados de los usuarios y productos\n",
    "user_degrees = dict(B.degree(users))\n",
    "product_degrees = dict(B.degree(products))\n",
    "\n",
    "print(f\"Número de usuarios: {len(users)}\")\n",
    "print(f\"Número de productos: {len(products)}\")\n",
    "print(f\"Número de aristas (reseñas de 5 estrellas): {B.number_of_edges()}\")\n",
    "print(f\"Grado promedio de usuarios: {np.mean(list(user_degrees.values())):.2f}\")\n",
    "print(f\"Grado promedio de productos: {np.mean(list(product_degrees.values())):.2f}\")"
   ]
  },
  {
   "cell_type": "markdown",
   "metadata": {},
   "source": [
    "---\n",
    "\n",
    "## **Sección 3: Proyección a Red de Productos**\n",
    "\n",
    "La proyección conecta productos que comparten usuarios en común.\n",
    "\n",
    "**Proceso:**\n",
    "1. Se toma el grafo bipartito B(U, V, E)\n",
    "2. Se proyecta sobre el conjunto V (productos)\n",
    "3. Dos productos quedan conectados si tienen al menos un usuario en común\n",
    "4. El **peso de la arista** = número de usuarios compartidos\n",
    "\n",
    "**Ejemplo:** Si los productos P1 y P2 fueron calificados por 15 usuarios en común, la arista (P1, P2) tendrá peso = 15."
   ]
  },
  {
   "cell_type": "code",
   "execution_count": 12,
   "metadata": {},
   "outputs": [
    {
     "name": "stdout",
     "output_type": "stream",
     "text": [
      "Red de productos creada:\n",
      "Número de productos: 89346\n",
      "Número de conexiones entre productos: 1039629\n",
      "\n",
      "Ejemplos de conexiones entre productos (peso = usuarios en común):\n",
      "  B0041NO0EY -- B0047FW7LE: 1 usuarios en común\n",
      "  B0041NO0EY -- B0041NRY6A: 1 usuarios en común\n",
      "  B0041NO0EY -- B0041NQ00Q: 1 usuarios en común\n",
      "  B0041NO0EY -- B001FA1O0O: 1 usuarios en común\n",
      "  B000VOUSPC -- B003Z6AB0A: 1 usuarios en común\n"
     ]
    }
   ],
   "source": [
    "# Crear la proyección de productos\n",
    "# Esto conecta productos que fueron calificados por los mismos usuarios\n",
    "product_network = bipartite.weighted_projected_graph(B, products)\n",
    "\n",
    "print(f\"Red de productos creada:\")\n",
    "print(f\"Número de productos: {product_network.number_of_nodes()}\")\n",
    "print(f\"Número de conexiones entre productos: {product_network.number_of_edges()}\")\n",
    "\n",
    "# Verificar algunos pesos de las conexiones\n",
    "if product_network.number_of_edges() > 0:\n",
    "    # Obtener algunas aristas con sus pesos\n",
    "    sample_edges = list(product_network.edges(data=True))[:5]\n",
    "    print(\"\\nEjemplos de conexiones entre productos (peso = usuarios en común):\")\n",
    "    for edge in sample_edges:\n",
    "        prod1, prod2, data = edge\n",
    "        weight = data['weight']\n",
    "        print(f\"  {prod1} -- {prod2}: {weight} usuarios en común\")"
   ]
  },
  {
   "cell_type": "markdown",
   "metadata": {},
   "source": [
    "---\n",
    "\n",
    "## **Sección 4: Sistema de Recomendación con Similaridad de Jaccard**\n",
    "\n",
    "### **Algoritmo implementado**\n",
    "\n",
    "**Similaridad de Jaccard** mide qué tan similares son dos productos basándose en sus usuarios compartidos:\n",
    "\n",
    "$$J(A, B) = \\frac{|A \\cap B|}{|A \\cup B|} \\times 100\\%$$\n",
    "\n",
    "Donde:\n",
    "- $A$: conjunto de usuarios que calificaron el producto A\n",
    "- $B$: conjunto de usuarios que calificaron el producto B  \n",
    "- $|A \\cap B|$: usuarios que calificaron ambos productos\n",
    "- $|A \\cup B|$: usuarios que calificaron al menos uno de los dos productos\n",
    "\n",
    "**Características:**\n",
    "- Rango: 0% (sin usuarios en común) a 100% (mismos usuarios exactamente)\n",
    "- Es **simétrica**: $J(A,B) = J(B,A)$\n",
    "- Normaliza por el tamaño total de la unión (evita sesgo por popularidad)\n",
    "\n",
    "**Caso especial:** 100% de similaridad indica que dos productos tienen exactamente el mismo conjunto de usuarios, lo que puede indicar:\n",
    "- Productos duplicados en el catálogo\n",
    "- Variantes del mismo producto (diferentes colores/tamaños)\n",
    "- El algoritmo puede filtrar estos casos si se desea"
   ]
  },
  {
   "cell_type": "code",
   "execution_count": 38,
   "metadata": {},
   "outputs": [],
   "source": [
    "def get_product_recommendations(product_id, n_recommendations=5, exclude_perfect_match=True):\n",
    "    \"\"\"\n",
    "    Obtiene recomendaciones basadas en SIMILITUD DE JACCARD\n",
    "    \n",
    "    SIMILITUD DE JACCARD:\n",
    "    - Métrica estándar para sistemas de recomendación\n",
    "    - Fórmula: J(A,B) = |A ∩ B| / |A ∪ B|\n",
    "    - Rango: 0% a 100%\n",
    "    \n",
    "    NOTA: 100% significa que exactamente los mismos usuarios calificaron ambos productos\n",
    "    (A = B), lo cual puede indicar productos duplicados o variantes del mismo producto.\n",
    "    \n",
    "    Args:\n",
    "        product_id: ID del producto\n",
    "        n_recommendations: Número de recomendaciones\n",
    "        exclude_perfect_match: Si True, excluye productos con 100% de similaridad\n",
    "    \n",
    "    Returns: Lista de tuplas (producto_id, porcentaje_jaccard, info_adicional)\n",
    "    \"\"\"\n",
    "    if product_id not in product_network:\n",
    "        return []\n",
    "    \n",
    "    neighbors = product_network[product_id].items()\n",
    "    users_base = set(B.neighbors(product_id))\n",
    "    num_users_base = len(users_base)\n",
    "    \n",
    "    recommendations = []\n",
    "    for neighbor, data in neighbors:\n",
    "        users_common = data['weight']\n",
    "        users_neighbor = set(B.neighbors(neighbor))\n",
    "        num_users_neighbor = len(users_neighbor)\n",
    "        \n",
    "        # SIMILITUD DE JACCARD: |A ∩ B| / |A ∪ B|\n",
    "        union_size = num_users_base + num_users_neighbor - users_common\n",
    "        jaccard_similarity = (users_common / union_size) * 100 if union_size > 0 else 0\n",
    "        \n",
    "        # Información adicional para análisis\n",
    "        info = {\n",
    "            'users_base': num_users_base,\n",
    "            'users_neighbor': num_users_neighbor,\n",
    "            'users_common': users_common,\n",
    "            'is_perfect_match': (jaccard_similarity == 100.0)\n",
    "        }\n",
    "        \n",
    "        # Filtrar coincidencias perfectas si se solicita\n",
    "        if exclude_perfect_match and jaccard_similarity == 100.0:\n",
    "            continue\n",
    "            \n",
    "        recommendations.append((neighbor, jaccard_similarity, info))\n",
    "    \n",
    "    return sorted(recommendations, key=lambda x: x[1], reverse=True)[:n_recommendations]"
   ]
  },
  {
   "cell_type": "markdown",
   "metadata": {},
   "source": [
    "### **Demostración del Sistema de Recomendación**\n",
    "\n",
    "Prueba del sistema con productos aleatorios mostrando las métricas de similaridad."
   ]
  },
  {
   "cell_type": "code",
   "execution_count": 39,
   "metadata": {},
   "outputs": [
    {
     "name": "stdout",
     "output_type": "stream",
     "text": [
      "DEMOSTRACIÓN 1: Incluyendo coincidencias perfectas\n",
      "\n",
      "================================================================================\n",
      "SISTEMA DE RECOMENDACIÓN - PRODUCTOS ALEATORIOS\n",
      "================================================================================\n",
      "Métrica utilizada: Similitud de Jaccard\n",
      "Total de productos en red: 10768\n",
      "Productos seleccionados: 5\n",
      "Recomendaciones por producto: 5\n",
      "Incluir coincidencias perfectas (100%): Sí\n",
      "================================================================================\n",
      "\n",
      "[1] PRODUCTO: B00EQ1Y4BU\n",
      "    Recomendaciones generadas: 5\n",
      "    Rank   Producto             Jaccard    Info\n",
      "    ------ -------------------- ---------- ------------------------------\n",
      "    1      B00A2UK60W            100.00%   ⚠️ MATCH PERFECTO\n",
      "           └─ Usuarios: Base=1, Vecino=1, Común=1\n",
      "    2      B005NB44DA             50.00%   \n",
      "    3      B00FF26R14             50.00%   \n",
      "    4      B00AZG71H4             33.33%   \n",
      "    5      B009CXV834             33.33%   \n",
      "\n",
      "[2] PRODUCTO: B00C4C8SRO\n",
      "    Recomendaciones generadas: 5\n",
      "    Rank   Producto             Jaccard    Info\n",
      "    ------ -------------------- ---------- ------------------------------\n",
      "    1      B00B4H00EO             25.00%   \n",
      "    2      B001RAZKZC             25.00%   \n",
      "    3      B003L30ZG2             20.00%   \n",
      "    4      B00E77N3WE             12.50%   \n",
      "    5      B006GTDAE2              7.69%   \n",
      "\n",
      "[3] PRODUCTO: B00A0IMSA2\n",
      "    Recomendaciones generadas: 5\n",
      "    Rank   Producto             Jaccard    Info\n",
      "    ------ -------------------- ---------- ------------------------------\n",
      "    1      B00ITZ15J8            100.00%   ⚠️ MATCH PERFECTO\n",
      "           └─ Usuarios: Base=1, Vecino=1, Común=1\n",
      "    2      B004O4JGPS             50.00%   \n",
      "    3      B00GU0VN4G             50.00%   \n",
      "    4      B00IC7PMX8             25.00%   \n",
      "    5      B0083J99EI             12.50%   \n",
      "\n",
      "[4] PRODUCTO: B00005I9P3\n",
      "    Recomendaciones generadas: 5\n",
      "    Rank   Producto             Jaccard    Info\n",
      "    ------ -------------------- ---------- ------------------------------\n",
      "    1      B00009RTBX             50.00%   \n",
      "    2      B00006JLWJ             50.00%   \n",
      "    3      B0000899QU             50.00%   \n",
      "    4      B00004SD9Q             50.00%   \n",
      "    5      B00004SA30             50.00%   \n",
      "\n",
      "[5] PRODUCTO: B005VAOSES\n",
      "    Recomendaciones generadas: 5\n",
      "    Rank   Producto             Jaccard    Info\n",
      "    ------ -------------------- ---------- ------------------------------\n",
      "    1      B00A9XG0GG             11.11%   \n",
      "    2      B002LCAFJQ             11.11%   \n",
      "    3      B00AET49LS             10.00%   \n",
      "    4      B002QRPY3I             10.00%   \n",
      "    5      B00A7DFYL0              9.09%   \n",
      "\n",
      "================================================================================\n",
      "RESUMEN DE MÉTRICAS\n",
      "================================================================================\n",
      "Total de recomendaciones generadas: 25\n",
      "Similitud promedio: 35.83%\n",
      "Similitud máxima: 100.00%\n",
      "Similitud mínima: 7.69%\n",
      "\n",
      "⚠️  ADVERTENCIA: Se encontraron 2 coincidencias perfectas (100%)\n",
      "    Esto indica productos con exactamente los mismos usuarios.\n",
      "    Pueden ser: duplicados, variantes, o productos muy relacionados.\n",
      "================================================================================\n",
      "\n",
      "\n",
      "\n",
      "DEMOSTRACIÓN 2: Excluyendo coincidencias perfectas (recomendación más diversa)\n",
      "\n",
      "================================================================================\n",
      "SISTEMA DE RECOMENDACIÓN - PRODUCTOS ALEATORIOS\n",
      "================================================================================\n",
      "Métrica utilizada: Similitud de Jaccard\n",
      "Total de productos en red: 10768\n",
      "Productos seleccionados: 5\n",
      "Recomendaciones por producto: 5\n",
      "Incluir coincidencias perfectas (100%): No\n",
      "================================================================================\n",
      "\n",
      "[1] PRODUCTO: B00EQ1Y4BU\n",
      "    Recomendaciones generadas: 5\n",
      "    Rank   Producto             Jaccard    Info\n",
      "    ------ -------------------- ---------- ------------------------------\n",
      "    1      B005NB44DA             50.00%   \n",
      "    2      B00FF26R14             50.00%   \n",
      "    3      B00AZG71H4             33.33%   \n",
      "    4      B009CXV834             33.33%   \n",
      "    5      B003CBFOW8             25.00%   \n",
      "\n",
      "[2] PRODUCTO: B00C4C8SRO\n",
      "    Recomendaciones generadas: 5\n",
      "    Rank   Producto             Jaccard    Info\n",
      "    ------ -------------------- ---------- ------------------------------\n",
      "    1      B00B4H00EO             25.00%   \n",
      "    2      B001RAZKZC             25.00%   \n",
      "    3      B003L30ZG2             20.00%   \n",
      "    4      B00E77N3WE             12.50%   \n",
      "    5      B006GTDAE2              7.69%   \n",
      "\n",
      "[3] PRODUCTO: B00A0IMSA2\n",
      "    Recomendaciones generadas: 4\n",
      "    Rank   Producto             Jaccard    Info\n",
      "    ------ -------------------- ---------- ------------------------------\n",
      "    1      B004O4JGPS             50.00%   \n",
      "    2      B00GU0VN4G             50.00%   \n",
      "    3      B00IC7PMX8             25.00%   \n",
      "    4      B0083J99EI             12.50%   \n",
      "\n",
      "[4] PRODUCTO: B00005I9P3\n",
      "    Recomendaciones generadas: 5\n",
      "    Rank   Producto             Jaccard    Info\n",
      "    ------ -------------------- ---------- ------------------------------\n",
      "    1      B00009RTBX             50.00%   \n",
      "    2      B00006JLWJ             50.00%   \n",
      "    3      B0000899QU             50.00%   \n",
      "    4      B00004SD9Q             50.00%   \n",
      "    5      B00004SA30             50.00%   \n",
      "\n",
      "[5] PRODUCTO: B005VAOSES\n",
      "    Recomendaciones generadas: 5\n",
      "    Rank   Producto             Jaccard    Info\n",
      "    ------ -------------------- ---------- ------------------------------\n",
      "    1      B00A9XG0GG             11.11%   \n",
      "    2      B002LCAFJQ             11.11%   \n",
      "    3      B00AET49LS             10.00%   \n",
      "    4      B002QRPY3I             10.00%   \n",
      "    5      B00A7DFYL0              9.09%   \n",
      "\n",
      "================================================================================\n",
      "RESUMEN DE MÉTRICAS\n",
      "================================================================================\n",
      "Total de recomendaciones generadas: 24\n",
      "Similitud promedio: 30.03%\n",
      "Similitud máxima: 50.00%\n",
      "Similitud mínima: 7.69%\n",
      "================================================================================\n"
     ]
    }
   ],
   "source": [
    "import random\n",
    "\n",
    "# Seleccionar productos aleatorios para demostración\n",
    "def demo_recommendation_system(num_products=3, n_recommendations=5, show_perfect_matches=True):\n",
    "    \"\"\"\n",
    "    Sistema de recomendación simplificado con productos aleatorios\n",
    "    \n",
    "    Args:\n",
    "        num_products: Cuántos productos aleatorios probar\n",
    "        n_recommendations: Cuántas recomendaciones generar por producto\n",
    "        show_perfect_matches: Si True, incluye productos con 100% similaridad\n",
    "    \"\"\"\n",
    "    # Filtrar productos que tienen conexiones\n",
    "    valid_products = [p for p in products if p in product_network and len(product_network[p]) >= n_recommendations]\n",
    "    \n",
    "    if len(valid_products) < num_products:\n",
    "        print(f\"Solo hay {len(valid_products)} productos con suficientes conexiones\")\n",
    "        num_products = len(valid_products)\n",
    "    \n",
    "    # Seleccionar productos aleatorios\n",
    "    random.seed(42)\n",
    "    selected_products = random.sample(valid_products, num_products)\n",
    "    \n",
    "    print(\"=\" * 80)\n",
    "    print(\"SISTEMA DE RECOMENDACIÓN - PRODUCTOS ALEATORIOS\")\n",
    "    print(\"=\" * 80)\n",
    "    print(f\"Métrica utilizada: Similitud de Jaccard\")\n",
    "    print(f\"Total de productos en red: {len(products)}\")\n",
    "    print(f\"Productos seleccionados: {num_products}\")\n",
    "    print(f\"Recomendaciones por producto: {n_recommendations}\")\n",
    "    print(f\"Incluir coincidencias perfectas (100%): {'Sí' if show_perfect_matches else 'No'}\")\n",
    "    print(\"=\" * 80)\n",
    "    \n",
    "    perfect_matches_found = 0\n",
    "    \n",
    "    for idx, product_id in enumerate(selected_products, 1):\n",
    "        print(f\"\\n[{idx}] PRODUCTO: {product_id}\")\n",
    "        \n",
    "        # Obtener recomendaciones\n",
    "        recommendations = get_product_recommendations(product_id, n_recommendations, \n",
    "                                                     exclude_perfect_match=not show_perfect_matches)\n",
    "        \n",
    "        if recommendations:\n",
    "            print(f\"    Recomendaciones generadas: {len(recommendations)}\")\n",
    "            print(f\"    {'Rank':<6} {'Producto':<20} {'Jaccard':<10} {'Info'}\")\n",
    "            print(f\"    {'-'*6} {'-'*20} {'-'*10} {'-'*30}\")\n",
    "            \n",
    "            for i, (prod_id, similarity, info) in enumerate(recommendations, 1):\n",
    "                status = \"\"\n",
    "                if info['is_perfect_match']:\n",
    "                    perfect_matches_found += 1\n",
    "                    status = \"⚠️ MATCH PERFECTO\"\n",
    "                    \n",
    "                print(f\"    {i:<6} {prod_id[:20]:<20} {similarity:>7.2f}%   {status}\")\n",
    "                \n",
    "                # Mostrar detalles si es match perfecto\n",
    "                if info['is_perfect_match']:\n",
    "                    print(f\"           └─ Usuarios: Base={info['users_base']}, \"\n",
    "                          f\"Vecino={info['users_neighbor']}, Común={info['users_common']}\")\n",
    "        else:\n",
    "            print(\"    Sin recomendaciones disponibles\")\n",
    "    \n",
    "    print(\"\\n\" + \"=\" * 80)\n",
    "    print(\"RESUMEN DE MÉTRICAS\")\n",
    "    print(\"=\" * 80)\n",
    "    \n",
    "    # Calcular estadísticas generales\n",
    "    all_similarities = []\n",
    "    total_recommendations = 0\n",
    "    \n",
    "    for product_id in selected_products:\n",
    "        recs = get_product_recommendations(product_id, n_recommendations, \n",
    "                                          exclude_perfect_match=not show_perfect_matches)\n",
    "        total_recommendations += len(recs)\n",
    "        all_similarities.extend([sim for _, sim, _ in recs])\n",
    "    \n",
    "    if all_similarities:\n",
    "        print(f\"Total de recomendaciones generadas: {total_recommendations}\")\n",
    "        print(f\"Similitud promedio: {np.mean(all_similarities):.2f}%\")\n",
    "        print(f\"Similitud máxima: {np.max(all_similarities):.2f}%\")\n",
    "        print(f\"Similitud mínima: {np.min(all_similarities):.2f}%\")\n",
    "        \n",
    "        if perfect_matches_found > 0:\n",
    "            print(f\"\\n⚠️  ADVERTENCIA: Se encontraron {perfect_matches_found} coincidencias perfectas (100%)\")\n",
    "            print(f\"    Esto indica productos con exactamente los mismos usuarios.\")\n",
    "            print(f\"    Pueden ser: duplicados, variantes, o productos muy relacionados.\")\n",
    "    \n",
    "    print(\"=\" * 80)\n",
    "\n",
    "# Ejecutar demo con coincidencias perfectas\n",
    "print(\"DEMOSTRACIÓN 1: Incluyendo coincidencias perfectas\\n\")\n",
    "demo_recommendation_system(num_products=5, n_recommendations=5, show_perfect_matches=True)\n",
    "\n",
    "print(\"\\n\\n\")\n",
    "\n",
    "# Ejecutar demo SIN coincidencias perfectas (más realista)\n",
    "print(\"DEMOSTRACIÓN 2: Excluyendo coincidencias perfectas (recomendación más diversa)\\n\")\n",
    "demo_recommendation_system(num_products=5, n_recommendations=5, show_perfect_matches=False)"
   ]
  },
  {
   "cell_type": "markdown",
   "metadata": {},
   "source": [
    "---\n",
    "\n",
    "## **Sección 5: Visualización e Interactividad**"
   ]
  },
  {
   "cell_type": "markdown",
   "metadata": {},
   "source": [
    "### Visualización de Red Estrella (Star Network)\n",
    "\n",
    "Visualización del producto central con sus productos recomendados conectados mediante aristas rojas."
   ]
  },
  {
   "cell_type": "code",
   "execution_count": 44,
   "metadata": {},
   "outputs": [
    {
     "data": {
      "image/png": "[encoded data removed]",
      "text/plain": [
       "<Figure size 1200x1000 with 1 Axes>"
      ]
     },
     "metadata": {},
     "output_type": "display_data"
    },
    {
     "name": "stdout",
     "output_type": "stream",
     "text": [
      "\n",
      "================================================================================\n",
      "PRODUCTO CENTRAL: B0041NO0EY\n",
      "================================================================================\n",
      "\n",
      "Rank   Producto ID                                        Similaridad \n",
      "--------------------------------------------------------------------------------\n",
      "1      B0041NRY6A                                          50.00%\n",
      "2      B0041NQ00Q                                          33.33%\n",
      "3      B0047FW7LE                                           3.85%\n",
      "4      B001FA1O0O                                           0.30%\n",
      "================================================================================\n",
      "\n"
     ]
    }
   ],
   "source": [
    "def visualize_star_network(product_id, n_recommendations=4):\n",
    "    \"\"\"Visualiza red estrella: producto central con vecinos conectados por aristas rojas\"\"\"\n",
    "    recs = get_product_recommendations(product_id, n_recommendations, exclude_perfect_match=False)\n",
    "    \n",
    "    if not recs:\n",
    "        print(f\"No hay recomendaciones para {product_id}\")\n",
    "        return\n",
    "    \n",
    "    # Crear grafo estrella\n",
    "    G = nx.Graph()\n",
    "    G.add_node(product_id)\n",
    "    \n",
    "    for neighbor, sim, _ in recs:\n",
    "        G.add_node(neighbor)\n",
    "        G.add_edge(product_id, neighbor, weight=sim)\n",
    "    \n",
    "    # Posiciones: centro y vecinos en círculo\n",
    "    pos = {product_id: (0, 0)}\n",
    "    angle_step = 2 * np.pi / len(recs)\n",
    "    for i, (neighbor, _, _) in enumerate(recs):\n",
    "        pos[neighbor] = (np.cos(i * angle_step), np.sin(i * angle_step))\n",
    "    \n",
    "    # Visualización\n",
    "    plt.figure(figsize=(12, 10))\n",
    "    \n",
    "    # Nodo central (producto seleccionado)\n",
    "    nx.draw_networkx_nodes(G, pos, nodelist=[product_id], \n",
    "                          node_color='#4CAF50', \n",
    "                          node_size=2000, \n",
    "                          alpha=0.95,\n",
    "                          edgecolors='black',\n",
    "                          linewidths=2)\n",
    "    \n",
    "    # Nodos vecinos (productos recomendados)\n",
    "    nx.draw_networkx_nodes(G, pos, nodelist=[n for n, _, _ in recs], \n",
    "                          node_color='#FF9800', \n",
    "                          node_size=1200, \n",
    "                          alpha=0.9,\n",
    "                          edgecolors='black',\n",
    "                          linewidths=1.5)\n",
    "    \n",
    "    # Aristas rojas con grosor variable según similaridad\n",
    "    edge_widths = [sim/15 for _, sim, _ in recs]\n",
    "    nx.draw_networkx_edges(G, pos, \n",
    "                          edge_color='#F44336', \n",
    "                          width=edge_widths, \n",
    "                          alpha=0.8)\n",
    "    \n",
    "    # Etiquetas de nodos (IDs truncados)\n",
    "    labels = {product_id: f\"★ {product_id[-10:]}\"}\n",
    "    labels.update({n: n[-10:] for n, _, _ in recs})\n",
    "    nx.draw_networkx_labels(G, pos, labels, font_size=9, font_weight='bold')\n",
    "    \n",
    "    # Etiquetas de peso en las aristas\n",
    "    edge_labels = {(product_id, n): f\"{s:.1f}%\" for n, s, _ in recs}\n",
    "    nx.draw_networkx_edge_labels(G, pos, edge_labels, font_size=9, font_color='#D32F2F')\n",
    "    \n",
    "    plt.title(f'Red Estrella (Star Network)\\nProducto Central: {product_id[-20:]}', \n",
    "             fontsize=15, fontweight='bold', pad=25)\n",
    "    plt.axis('off')\n",
    "    plt.tight_layout()\n",
    "    plt.show()\n",
    "    \n",
    "    # Tabla de recomendaciones\n",
    "    print(f\"\\n{'='*80}\")\n",
    "    print(f\"PRODUCTO CENTRAL: {product_id}\")\n",
    "    print(f\"{'='*80}\")\n",
    "    print(f\"\\n{'Rank':<6} {'Producto ID':<50} {'Similaridad':<12}\")\n",
    "    print(f\"{'-'*80}\")\n",
    "    for i, (prod, sim, _) in enumerate(recs, 1):\n",
    "        print(f\"{i:<6} {prod:<50} {sim:>6.2f}%\")\n",
    "    print(f\"{'='*80}\\n\")\n",
    "\n",
    "# Demostración con un producto válido\n",
    "valid_prods = [p for p in products if p in product_network and len(product_network[p]) >= 4]\n",
    "if valid_prods:\n",
    "    visualize_star_network(valid_prods[0], n_recommendations=5)"
   ]
  },
  {
   "cell_type": "markdown",
   "metadata": {},
   "source": [
    "### Interfaz Interactiva con Dropdowns\n",
    "\n",
    "Selección de producto y número de recomendaciones mediante widgets interactivos."
   ]
  },
  {
   "cell_type": "code",
   "execution_count": 41,
   "metadata": {},
   "outputs": [
    {
     "data": {
      "application/vnd.jupyter.widget-view+json": {
       "model_id": "5227d6a0e74e419696b269cf5986d245",
       "version_major": 2,
       "version_minor": 0
      },
      "text/plain": [
       "VBox(children=(Dropdown(description='Producto:', options=('B0041NO0EY', 'B000VOUSPC', 'B0054OWTCO', 'B0052UQXF…"
      ]
     },
     "metadata": {},
     "output_type": "display_data"
    }
   ],
   "source": [
    "import ipywidgets as widgets\n",
    "from IPython.display import display, clear_output\n",
    "\n",
    "# Productos válidos (con suficientes vecinos)\n",
    "valid_products = [p for p in products if p in product_network and len(product_network[p]) >= 4][:50]\n",
    "\n",
    "# Crear dropdowns\n",
    "product_dropdown = widgets.Dropdown(\n",
    "    options=valid_products,\n",
    "    description='Producto:',\n",
    "    style={'description_width': 'initial'}\n",
    ")\n",
    "\n",
    "n_dropdown = widgets.Dropdown(\n",
    "    options=[3, 4, 5, 6, 8, 10],\n",
    "    value=4,\n",
    "    description='N Recomendaciones:',\n",
    "    style={'description_width': 'initial'}\n",
    ")\n",
    "\n",
    "# Función de actualización\n",
    "def update_visualization(change):\n",
    "    with output:\n",
    "        clear_output(wait=True)\n",
    "        visualize_star_network(product_dropdown.value, n_dropdown.value)\n",
    "\n",
    "# Vincular eventos\n",
    "product_dropdown.observe(update_visualization, names='value')\n",
    "n_dropdown.observe(update_visualization, names='value')\n",
    "\n",
    "# Output widget\n",
    "output = widgets.Output()\n",
    "\n",
    "# Mostrar interfaz\n",
    "display(widgets.VBox([product_dropdown, n_dropdown, output]))\n",
    "\n",
    "# Visualización inicial\n",
    "with output:\n",
    "    visualize_star_network(product_dropdown.value, n_dropdown.value)"
   ]
  },
  {
   "cell_type": "markdown",
   "metadata": {},
   "source": [
    "---\n",
    "\n",
    "## 📈 Resumen del Sistema\n",
    "\n",
    "### Características Principales\n",
    "\n",
    "✅ **Grafo Bipartito**: Conecta usuarios y productos mediante calificaciones de 5 estrellas  \n",
    "✅ **Proyección Ponderada**: Red de productos donde los pesos representan usuarios compartidos  \n",
    "✅ **Similaridad de Jaccard**: Métrica normalizada que mide similitud entre productos (0-100%)  \n",
    "✅ **Filtrado Inteligente**: Elimina productos con pocas conexiones y opcionalmente duplicados perfectos  \n",
    "✅ **Visualización Interactiva**: Red estrella con dropdowns para explorar recomendaciones  \n",
    "✅ **Matriz de Biadyacencia**: Representación visual del grafo bipartito  \n",
    "\n",
    "### Métricas y Resultados\n",
    "\n",
    "- **Dataset**: Amazon Electronics Reviews\n",
    "- **Filtrado**: Solo reseñas de 5 estrellas\n",
    "- **Umbral**: Mínimo 4 conexiones por usuario/producto\n",
    "- **Algoritmo**: Similaridad de Jaccard basada en usuarios compartidos\n",
    "- **Rango típico**: 0.3% - 50% de similaridad (valores realistas)\n",
    "- **Casos especiales**: 100% indica productos idénticos (duplicados/variantes)\n",
    "\n",
    "### Uso del Sistema\n",
    "\n",
    "1. Ejecutar celdas en orden secuencial\n",
    "2. Usar los dropdowns interactivos para seleccionar productos\n",
    "3. Ajustar el número de recomendaciones deseadas\n",
    "4. Visualizar la red estrella y métricas de similaridad"
   ]
  }
 ],
 "metadata": {
  "colab": {
   "provenance": [],
   "toc_visible": true
  },
  "kernelspec": {
   "display_name": "base",
   "language": "python",
   "name": "python3"
  },
  "language_info": {
   "codemirror_mode": {
    "name": "ipython",
    "version": 3
   },
   "file_extension": ".py",
   "mimetype": "text/x-python",
   "name": "python",
   "nbconvert_exporter": "python",
   "pygments_lexer": "ipython3",
   "version": "3.13.5"
  }
 },
 "nbformat": 4,
 "nbformat_minor": 0
}
