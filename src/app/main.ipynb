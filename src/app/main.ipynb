{
  "cells": [
    {
      "cell_type": "markdown",
      "metadata": {
        "id": "S_7K0QrybjiZ"
      },
      "source": [
        "Importación de las bibliotecas"
      ]
    },
    {
      "cell_type": "code",
      "execution_count": null,
      "metadata": {},
      "outputs": [],
      "source": [
        "import numpy as np\n",
        "from IPython.core.interactiveshell import InteractiveShell\n",
        "InteractiveShell.ast_node_interactivity = \"all\"\n",
        "import seaborn as sns\n",
        "import warnings; warnings.simplefilter('ignore')\n",
        "%matplotlib inline"
      ]
    },
    {
      "cell_type": "markdown",
      "metadata": {},
      "source": [
        "# Sistema de recomendación usando una proyección de red bipartita\n",
        "\n",
        "**Integrantes:** Isaac Cerda, David Guamán, Christian Jácome, Mateo Jaramillo, David Navarrete"
      ]
    },
    {
      "cell_type": "markdown",
      "metadata": {},
      "source": [
        "## **Paso 1:** Descargar el Dataset\n",
        "Ejecutar **SOLO** si **NO** se tiene la carpeta `data` en el directorio `src/app` con el archivo `ratings_electronics.csv`"
      ]
    },
    {
      "cell_type": "code",
      "execution_count": 1,
      "metadata": {},
      "outputs": [
        {
          "name": "stdout",
          "output_type": "stream",
          "text": [
            "Descargando dataset desde KaggleHub...\n",
            "Ruta del dataset descargado: C:\\Users\\chris\\.cache\\kagglehub\\datasets\\saurav9786\\amazon-product-reviews\\versions\\1\n",
            "Ruta del dataset: data\\amazon-products-reviews\\ratings_electronics.csv\n"
          ]
        }
      ],
      "source": [
        "from utils.download_dataset import download_ratings_electronics\n",
        "\n",
        "dataset_path = download_ratings_electronics()"
      ]
    },
    {
      "cell_type": "markdown",
      "metadata": {
        "id": "fTIsY-bibm7r"
      },
      "source": [
        "## **Paso 2:** Cargar el Dataset"
      ]
    },
    {
      "cell_type": "code",
      "execution_count": 2,
      "metadata": {
        "colab": {
          "base_uri": "https://localhost:8080/",
          "height": 224
        },
        "id": "O9Rj8f42bi-1",
        "outputId": "f71c5cce-b018-4ba7-a0ab-f524f0960b9d"
      },
      "outputs": [
        {
          "data": {
            "text/html": [
              "<div>\n",
              "<style scoped>\n",
              "    .dataframe tbody tr th:only-of-type {\n",
              "        vertical-align: middle;\n",
              "    }\n",
              "\n",
              "    .dataframe tbody tr th {\n",
              "        vertical-align: top;\n",
              "    }\n",
              "\n",
              "    .dataframe thead th {\n",
              "        text-align: right;\n",
              "    }\n",
              "</style>\n",
              "<table border=\"1\" class=\"dataframe\">\n",
              "  <thead>\n",
              "    <tr style=\"text-align: right;\">\n",
              "      <th></th>\n",
              "      <th>userId</th>\n",
              "      <th>productId</th>\n",
              "      <th>Rating</th>\n",
              "      <th>timestamp</th>\n",
              "    </tr>\n",
              "  </thead>\n",
              "  <tbody>\n",
              "    <tr>\n",
              "      <th>0</th>\n",
              "      <td>AKM1MP6P0OYPR</td>\n",
              "      <td>0132793040</td>\n",
              "      <td>5.0</td>\n",
              "      <td>1365811200</td>\n",
              "    </tr>\n",
              "    <tr>\n",
              "      <th>1</th>\n",
              "      <td>A2CX7LUOHB2NDG</td>\n",
              "      <td>0321732944</td>\n",
              "      <td>5.0</td>\n",
              "      <td>1341100800</td>\n",
              "    </tr>\n",
              "    <tr>\n",
              "      <th>2</th>\n",
              "      <td>A2NWSAGRHCP8N5</td>\n",
              "      <td>0439886341</td>\n",
              "      <td>1.0</td>\n",
              "      <td>1367193600</td>\n",
              "    </tr>\n",
              "    <tr>\n",
              "      <th>3</th>\n",
              "      <td>A2WNBOD3WNDNKT</td>\n",
              "      <td>0439886341</td>\n",
              "      <td>3.0</td>\n",
              "      <td>1374451200</td>\n",
              "    </tr>\n",
              "    <tr>\n",
              "      <th>4</th>\n",
              "      <td>A1GI0U4ZRJA8WN</td>\n",
              "      <td>0439886341</td>\n",
              "      <td>1.0</td>\n",
              "      <td>1334707200</td>\n",
              "    </tr>\n",
              "  </tbody>\n",
              "</table>\n",
              "</div>"
            ],
            "text/plain": [
              "           userId   productId  Rating   timestamp\n",
              "0   AKM1MP6P0OYPR  0132793040     5.0  1365811200\n",
              "1  A2CX7LUOHB2NDG  0321732944     5.0  1341100800\n",
              "2  A2NWSAGRHCP8N5  0439886341     1.0  1367193600\n",
              "3  A2WNBOD3WNDNKT  0439886341     3.0  1374451200\n",
              "4  A1GI0U4ZRJA8WN  0439886341     1.0  1334707200"
            ]
          },
          "execution_count": 2,
          "metadata": {},
          "output_type": "execute_result"
        }
      ],
      "source": [
        "import pandas as pd\n",
        "\n",
        "## Carga del dataset generado en la ruta del api\n",
        "electronics_data = pd.read_csv(\n",
        "    dataset_path, names=['userId', 'productId', 'Rating', 'timestamp']\n",
        ")\n",
        "\n",
        "## Impresión de las primeras 5 filas para validar la carga correcta del dataset\n",
        "electronics_data.head()"
      ]
    },
    {
      "cell_type": "markdown",
      "metadata": {
        "id": "ETDbEux5hqHw"
      },
      "source": [
        "### **Paso 2.1:** Revisar cantidad de datos del Dataset"
      ]
    },
    {
      "cell_type": "code",
      "execution_count": 4,
      "metadata": {
        "colab": {
          "base_uri": "https://localhost:8080/",
          "height": 509
        },
        "id": "2t4Gzj3fhpG2",
        "outputId": "9524a2d2-0629-49ce-dcfc-900636a87aa3"
      },
      "outputs": [
        {
          "name": "stdout",
          "output_type": "stream",
          "text": [
            "<class 'pandas.core.frame.DataFrame'>\n",
            "RangeIndex: 7824482 entries, 0 to 7824481\n",
            "Data columns (total 4 columns):\n",
            " #   Column     Dtype  \n",
            "---  ------     -----  \n",
            " 0   userId     object \n",
            " 1   productId  object \n",
            " 2   Rating     float64\n",
            " 3   timestamp  int64  \n",
            "dtypes: float64(1), int64(1), object(2)\n",
            "memory usage: 238.8+ MB\n",
            "Total registros: 7,824,482\n"
          ]
        }
      ],
      "source": [
        "electronics_data.info()\n",
        "electronics_data.describe()\n",
        "print(f\"Total registros: {len(electronics_data):,}\")"
      ]
    },
    {
      "cell_type": "markdown",
      "metadata": {
        "id": "p3ZVNz3vhuJc"
      },
      "source": [
        "## **Paso 3:** Filtrar reseñas de 5 estrellas"
      ]
    },
    {
      "cell_type": "code",
      "execution_count": 5,
      "metadata": {
        "colab": {
          "base_uri": "https://localhost:8080/"
        },
        "id": "7anER47ehtgK",
        "outputId": "770e65a9-7393-492e-f097-93dc2bba2e6f"
      },
      "outputs": [
        {
          "name": "stdout",
          "output_type": "stream",
          "text": [
            "Registros luego de filtrar 5 estrellas: 4,347,541\n"
          ]
        }
      ],
      "source": [
        "electronics_data = electronics_data[electronics_data['Rating'] == 5]\n",
        "print(f\"Registros luego de filtrar 5 estrellas: {len(electronics_data):,}\")"
      ]
    },
    {
      "cell_type": "markdown",
      "metadata": {
        "id": "Dtaj4hzQhzzr"
      },
      "source": [
        "## **Paso 4:** Eliminar usuarios y productos con pocas conexiones"
      ]
    },
    {
      "cell_type": "code",
      "execution_count": 6,
      "metadata": {
        "colab": {
          "base_uri": "https://localhost:8080/"
        },
        "id": "-_C-wCBFh31Y",
        "outputId": "ad715358-16fe-4171-f6b9-34a64db639db"
      },
      "outputs": [
        {
          "name": "stdout",
          "output_type": "stream",
          "text": [
            "Registros tras filtrado de conexiones mínimas: 1,147,489\n"
          ]
        }
      ],
      "source": [
        "# Contar cuántos ratings tiene cada usuario y producto\n",
        "user_counts = electronics_data['userId'].value_counts()\n",
        "product_counts = electronics_data['productId'].value_counts()\n",
        "\n",
        "# Mantener usuarios y productos con al menos 4 interacciones\n",
        "min_user_reviews = 4\n",
        "min_product_reviews = 4\n",
        "\n",
        "filtered_users = user_counts[user_counts >= min_user_reviews].index\n",
        "filtered_products = product_counts[product_counts >= min_product_reviews].index\n",
        "\n",
        "electronics_data = electronics_data[\n",
        "    electronics_data['userId'].isin(filtered_users) &\n",
        "    electronics_data['productId'].isin(filtered_products)\n",
        "]\n",
        "\n",
        "print(f\"Registros tras filtrado de conexiones mínimas: {len(electronics_data):,}\")\n"
      ]
    },
    {
      "cell_type": "markdown",
      "metadata": {
        "id": "F3XuuMohikJw"
      },
      "source": [
        "### **Paso 4.1:** Validar campos nulos tras el filtrado"
      ]
    },
    {
      "cell_type": "code",
      "execution_count": 8,
      "metadata": {
        "colab": {
          "base_uri": "https://localhost:8080/",
          "height": 210
        },
        "id": "MGAVlfO-imxB",
        "outputId": "142dc6f4-c712-4e80-e19b-16edfec8fa25"
      },
      "outputs": [
        {
          "data": {
            "text/plain": [
              "userId       0\n",
              "productId    0\n",
              "Rating       0\n",
              "timestamp    0\n",
              "dtype: int64"
            ]
          },
          "execution_count": 8,
          "metadata": {},
          "output_type": "execute_result"
        }
      ],
      "source": [
        "electronics_data.isnull().sum()"
      ]
    },
    {
      "cell_type": "markdown",
      "metadata": {},
      "source": [
        "# Grafo bipartito\n",
        "\n",
        "Un grafo bipartito es una forma de organizar relaciones entre dos grupos distintos. En este caso se tiene dos filas: una con usuarios y otra con productos. Las conexiones, también llamadas aristas, solo pueden ir de un grupo al otro, nunca dentro del mismo grupo. Por ejemplo, un usuario puede dar 5 estrellas a un producto, pero un usuario no se conecta con otro usuario, ni un producto con otro producto.\n",
        "\n",
        "## Artefactos:\n",
        "\n",
        "- **Matriz de biadyacencia**: Una tabla que muestra las conexiones. Las filas son usuarios, las columnas son productos, y un \"1\" indica que el usuario dio 5 estrellas al producto (un \"0\" si no).\n",
        "\n",
        "- **Grado de un nodo:** Cuántas conexiones tiene un nodo (por ejemplo, cuántos productos calificó un usuario, o cuántas reseñas de 5 estrellas recibió un producto)."
      ]
    },
    {
      "cell_type": "code",
      "execution_count": 8,
      "metadata": {},
      "outputs": [],
      "source": [
        "import networkx as nx\n",
        "import matplotlib.pyplot as plt\n",
        "from networkx.algorithms import bipartite\n",
        "import random\n",
        "import plotly.express as px"
      ]
    },
    {
      "cell_type": "code",
      "execution_count": 9,
      "metadata": {},
      "outputs": [
        {
          "name": "stdout",
          "output_type": "stream",
          "text": [
            "Número de usuarios únicos: 184707\n",
            "Número de productos únicos: 107686\n"
          ]
        }
      ],
      "source": [
        "users = electronics_data['userId'].unique()\n",
        "products = electronics_data['productId'].unique()\n",
        "\n",
        "print(f\"Número de usuarios únicos: {len(users)}\")\n",
        "print(f\"Número de productos únicos: {len(products)}\")"
      ]
    },
    {
      "cell_type": "code",
      "execution_count": 10,
      "metadata": {},
      "outputs": [
        {
          "name": "stdout",
          "output_type": "stream",
          "text": [
            "Número de usuarios únicos: 18470\n",
            "Número de productos únicos: 10768\n"
          ]
        }
      ],
      "source": [
        "# Debido a que el dataset es muy grande se tomon muestras\n",
        "users = list(users)\n",
        "products = list(products)\n",
        "\n",
        "sample_ratio = 0.1\n",
        "\n",
        "num_users = int(len(users) * sample_ratio)\n",
        "num_products = int(len(products) * sample_ratio)\n",
        "\n",
        "random.seed(42)\n",
        "users = random.sample(users, num_users)\n",
        "products = random.sample(products, num_products)\n",
        "\n",
        "print(f\"Número de usuarios únicos: {len(users)}\")\n",
        "print(f\"Número de productos únicos: {len(products)}\")"
      ]
    },
    {
      "cell_type": "code",
      "execution_count": 11,
      "metadata": {},
      "outputs": [
        {
          "name": "stdout",
          "output_type": "stream",
          "text": [
            "¿Es el grafo bipartito? True\n",
            "Número de aristas: 1147489\n"
          ]
        }
      ],
      "source": [
        "B = nx.Graph()\n",
        "\n",
        "# Agregar nodos al grafo\n",
        "B.add_nodes_from(users, bipartite=0)\n",
        "B.add_nodes_from(products, bipartite=1)\n",
        "\n",
        "# Agregar aristas\n",
        "edges = electronics_data[['userId', 'productId']].values\n",
        "B.add_edges_from(edges)\n",
        "\n",
        "is_bipartite = nx.is_bipartite(B)\n",
        "print(f\"¿Es el grafo bipartito? {is_bipartite}\")\n",
        "num_edges = B.number_of_edges()\n",
        "print(\"Número de aristas:\", num_edges)"
      ]
    },
    {
      "cell_type": "code",
      "execution_count": null,
      "metadata": {},
      "outputs": [
        {
          "name": "stdout",
          "output_type": "stream",
          "text": [
            "Matriz de biadyacencia (primeras 5 filas y columnas):\n",
            "[[0 0 0 ... 0 0 0]\n",
            " [0 0 0 ... 0 0 0]\n",
            " [0 0 0 ... 0 0 0]\n",
            " ...\n",
            " [0 0 0 ... 0 0 0]\n",
            " [0 0 0 ... 0 0 0]\n",
            " [0 0 0 ... 0 0 0]]\n"
          ]
        },
        {
          "data": {
            "text/plain": [
              "<Figure size 1000x800 with 0 Axes>"
            ]
          },
          "execution_count": 12,
          "metadata": {},
          "output_type": "execute_result"
        }
      ],
      "source": [
        "# Se calcula la matriz de biadyacencia\n",
        "biadj_matrix = bipartite.biadjacency_matrix(B, row_order=users, column_order=products)\n",
        "\n",
        "biadj_matrix_dense = biadj_matrix.toarray()\n",
        "print(\"Matriz de biadyacencia (primeras 5 filas y columnas):\")\n",
        "print(biadj_matrix_dense[:100, :100])\n",
        "\n",
        "# Configurar el heatmap\n",
        "plt.figure(figsize=(10, 8))\n",
        "sns.heatmap(\n",
        "    biadj_matrix_dense,\n",
        "    annot=True,  # Mostrar los valores en cada celda\n",
        "    cmap=\"Blues\",  # Escala de colores (azul para 0, azul intenso para 1)\n",
        "    xticklabels=[f\"P{i+1}\" for i in range(10)],  # Etiquetas de productos\n",
        "    yticklabels=[f\"U{i+1}\" for i in range(10)],  # Etiquetas de usuarios\n",
        "    cbar_kws={'label': 'Interacción'}  # Etiqueta de la barra de color\n",
        ")\n",
        "\n",
        "# Títulos y etiquetas\n",
        "plt.title(\"Matriz de Biadyacencia (Usuarios vs Productos)\")\n",
        "plt.xlabel(\"Productos\")\n",
        "plt.ylabel(\"Usuarios\")\n",
        "\n",
        "# Mostrar el gráfico\n",
        "plt.show()"
      ]
    },
    {
      "cell_type": "markdown",
      "metadata": {},
      "source": [
        "### Histograma de grados de usuarios"
      ]
    },
    {
      "cell_type": "code",
      "execution_count": null,
      "metadata": {},
      "outputs": [
        {
          "data": {
            "text/plain": [
              "<Figure size 1000x500 with 0 Axes>"
            ]
          },
          "execution_count": 82,
          "metadata": {},
          "output_type": "execute_result"
        },
        {
          "data": {
            "text/plain": [
              "(array([1.92380e+05, 2.40189e+05, 8.12270e+04, 3.79180e+04, 2.04360e+04,\n",
              "        1.27540e+04, 8.49800e+03, 6.84200e+03, 4.80700e+03, 3.08400e+03,\n",
              "        2.85600e+03, 2.23600e+03, 1.07400e+03, 1.12900e+03, 1.38300e+03,\n",
              "        1.30300e+03, 5.32000e+02, 6.21000e+02, 3.65000e+02, 5.54000e+02,\n",
              "        3.16000e+02, 5.07000e+02, 4.52000e+02, 3.82000e+02, 1.95000e+02,\n",
              "        4.15000e+02, 2.07000e+02, 4.33000e+02, 3.39000e+02, 0.00000e+00,\n",
              "        2.49000e+02, 2.48000e+02, 6.48000e+02, 1.33000e+02, 0.00000e+00,\n",
              "        2.86000e+02, 0.00000e+00, 0.00000e+00, 0.00000e+00, 1.62000e+02,\n",
              "        0.00000e+00, 0.00000e+00, 0.00000e+00, 1.73000e+02, 0.00000e+00,\n",
              "        0.00000e+00, 0.00000e+00, 1.93000e+02, 0.00000e+00, 1.96000e+02]),\n",
              " array([  1.  ,   5.92,  10.84,  15.76,  20.68,  25.6 ,  30.52,  35.44,\n",
              "         40.36,  45.28,  50.2 ,  55.12,  60.04,  64.96,  69.88,  74.8 ,\n",
              "         79.72,  84.64,  89.56,  94.48,  99.4 , 104.32, 109.24, 114.16,\n",
              "        119.08, 124.  , 128.92, 133.84, 138.76, 143.68, 148.6 , 153.52,\n",
              "        158.44, 163.36, 168.28, 173.2 , 178.12, 183.04, 187.96, 192.88,\n",
              "        197.8 , 202.72, 207.64, 212.56, 217.48, 222.4 , 227.32, 232.24,\n",
              "        237.16, 242.08, 247.  ]),\n",
              " <BarContainer object of 50 artists>)"
            ]
          },
          "execution_count": 82,
          "metadata": {},
          "output_type": "execute_result"
        },
        {
          "data": {
            "text/plain": [
              "Text(0.5, 1.0, 'Distribución de grados de usuarios (reseñas dadas)')"
            ]
          },
          "execution_count": 82,
          "metadata": {},
          "output_type": "execute_result"
        },
        {
          "data": {
            "text/plain": [
              "Text(0.5, 0, 'Grado (número de reseñas de 5 estrellas)')"
            ]
          },
          "execution_count": 82,
          "metadata": {},
          "output_type": "execute_result"
        },
        {
          "data": {
            "text/plain": [
              "Text(0, 0.5, 'Frecuencia')"
            ]
          },
          "execution_count": 82,
          "metadata": {},
          "output_type": "execute_result"
        },
        {
          "data": {
            "image/png": "[encoded data removed]",
            "text/plain": [
              "<Figure size 1000x500 with 1 Axes>"
            ]
          },
          "metadata": {},
          "output_type": "display_data"
        }
      ],
      "source": [
        "# Se calculan los grados de los nodos (número de conexiones)\n",
        "user_degrees = [B.degree(user) for user in users]\n",
        "product_degrees = [B.degree(product) for product in products]\n",
        "\n",
        "plt.figure(figsize=(10, 5))\n",
        "plt.hist(user_degrees, bins=50, color='blue', alpha=0.7)\n",
        "plt.title('Distribución de grados de usuarios (reseñas dadas)')\n",
        "plt.xlabel('Grado (número de reseñas de 5 estrellas)')\n",
        "plt.ylabel('Frecuencia')\n",
        "plt.grid(True)\n",
        "plt.show()"
      ]
    },
    {
      "cell_type": "markdown",
      "metadata": {},
      "source": [
        "### Histograma de grados de productos"
      ]
    },
    {
      "cell_type": "code",
      "execution_count": null,
      "metadata": {},
      "outputs": [
        {
          "data": {
            "text/plain": [
              "<Figure size 1000x500 with 0 Axes>"
            ]
          },
          "execution_count": 65,
          "metadata": {},
          "output_type": "execute_result"
        },
        {
          "data": {
            "text/plain": [
              "(array([5.6103e+04, 7.4300e+02, 1.9600e+02, 9.0000e+01, 4.4000e+01,\n",
              "        2.9000e+01, 2.5000e+01, 1.7000e+01, 9.0000e+00, 7.0000e+00,\n",
              "        2.0000e+00, 0.0000e+00, 1.0000e+00, 3.0000e+00, 2.0000e+00,\n",
              "        1.0000e+00, 3.0000e+00, 2.0000e+00, 1.0000e+00, 0.0000e+00,\n",
              "        0.0000e+00, 4.0000e+00, 0.0000e+00, 0.0000e+00, 0.0000e+00,\n",
              "        1.0000e+00, 0.0000e+00, 0.0000e+00, 0.0000e+00, 1.0000e+00,\n",
              "        0.0000e+00, 0.0000e+00, 0.0000e+00, 0.0000e+00, 0.0000e+00,\n",
              "        0.0000e+00, 0.0000e+00, 0.0000e+00, 0.0000e+00, 0.0000e+00,\n",
              "        0.0000e+00, 0.0000e+00, 0.0000e+00, 0.0000e+00, 1.0000e+00,\n",
              "        0.0000e+00, 0.0000e+00, 0.0000e+00, 0.0000e+00, 1.0000e+00]),\n",
              " array([1.00000e+00, 6.57600e+01, 1.30520e+02, 1.95280e+02, 2.60040e+02,\n",
              "        3.24800e+02, 3.89560e+02, 4.54320e+02, 5.19080e+02, 5.83840e+02,\n",
              "        6.48600e+02, 7.13360e+02, 7.78120e+02, 8.42880e+02, 9.07640e+02,\n",
              "        9.72400e+02, 1.03716e+03, 1.10192e+03, 1.16668e+03, 1.23144e+03,\n",
              "        1.29620e+03, 1.36096e+03, 1.42572e+03, 1.49048e+03, 1.55524e+03,\n",
              "        1.62000e+03, 1.68476e+03, 1.74952e+03, 1.81428e+03, 1.87904e+03,\n",
              "        1.94380e+03, 2.00856e+03, 2.07332e+03, 2.13808e+03, 2.20284e+03,\n",
              "        2.26760e+03, 2.33236e+03, 2.39712e+03, 2.46188e+03, 2.52664e+03,\n",
              "        2.59140e+03, 2.65616e+03, 2.72092e+03, 2.78568e+03, 2.85044e+03,\n",
              "        2.91520e+03, 2.97996e+03, 3.04472e+03, 3.10948e+03, 3.17424e+03,\n",
              "        3.23900e+03]),\n",
              " <BarContainer object of 50 artists>)"
            ]
          },
          "execution_count": 65,
          "metadata": {},
          "output_type": "execute_result"
        },
        {
          "data": {
            "text/plain": [
              "Text(0.5, 1.0, 'Distribución de grados de productos (reseñas recibidas)')"
            ]
          },
          "execution_count": 65,
          "metadata": {},
          "output_type": "execute_result"
        },
        {
          "data": {
            "text/plain": [
              "Text(0.5, 0, 'Grado (número de reseñas de 5 estrellas)')"
            ]
          },
          "execution_count": 65,
          "metadata": {},
          "output_type": "execute_result"
        },
        {
          "data": {
            "text/plain": [
              "Text(0, 0.5, 'Frecuencia')"
            ]
          },
          "execution_count": 65,
          "metadata": {},
          "output_type": "execute_result"
        },
        {
          "data": {
            "image/png": "[encoded data removed]",
            "text/plain": [
              "<Figure size 1000x500 with 1 Axes>"
            ]
          },
          "metadata": {},
          "output_type": "display_data"
        }
      ],
      "source": [
        "plt.figure(figsize=(10, 5))\n",
        "plt.hist(product_degrees, bins=50, color='green', alpha=0.7)\n",
        "plt.title('Distribución de grados de productos (reseñas recibidas)')\n",
        "plt.xlabel('Grado (número de reseñas de 5 estrellas)')\n",
        "plt.ylabel('Frecuencia')\n",
        "plt.grid(True)\n",
        "plt.show()"
      ]
    },
    {
      "cell_type": "markdown",
      "metadata": {},
      "source": [
        "### Resultado"
      ]
    },
    {
      "cell_type": "code",
      "execution_count": null,
      "metadata": {},
      "outputs": [
        {
          "name": "stdout",
          "output_type": "stream",
          "text": [
            "Número de usuarios: 74246\n",
            "Número de productos: 57286\n",
            "Número de aristas (reseñas de 5 estrellas): 877820\n",
            "Grado promedio de usuarios: 7.56\n",
            "Grado promedio de productos: 9.91\n"
          ]
        }
      ],
      "source": [
        "print(f\"Número de usuarios: {len(users)}\")\n",
        "print(f\"Número de productos: {len(products)}\")\n",
        "print(f\"Número de aristas (reseñas de 5 estrellas): {B.number_of_edges()}\")\n",
        "print(f\"Grado promedio de usuarios: {np.mean(user_degrees):.2f}\")\n",
        "print(f\"Grado promedio de productos: {np.mean(product_degrees):.2f}\")"
      ]
    },
    {
      "cell_type": "code",
      "execution_count": null,
      "metadata": {},
      "outputs": [],
      "source": []
    }
  ],
  "metadata": {
    "colab": {
      "provenance": [],
      "toc_visible": true
    },
    "kernelspec": {
      "display_name": "udla-ia",
      "language": "python",
      "name": "python3"
    },
    "language_info": {
      "codemirror_mode": {
        "name": "ipython",
        "version": 3
      },
      "file_extension": ".py",
      "mimetype": "text/x-python",
      "name": "python",
      "nbconvert_exporter": "python",
      "pygments_lexer": "ipython3",
      "version": "3.12.11"
    }
  },
  "nbformat": 4,
  "nbformat_minor": 0
}
